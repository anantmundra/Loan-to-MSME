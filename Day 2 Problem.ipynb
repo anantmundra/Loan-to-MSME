{
 "cells": [
  {
   "cell_type": "markdown",
   "metadata": {},
   "source": [
    "# <span style='background :beige'><span style='font-family:\"Times New Roman\"'>Q2. Determine the total outlay of the support required from Ministry of Finance?</span> "
   ]
  },
  {
   "cell_type": "markdown",
   "metadata": {},
   "source": [
    "## <span style='background :paleturquoise'><span style='font-family:\"Times New Roman\"'>Importing Necessary Libraries</span> "
   ]
  },
  {
   "cell_type": "code",
   "execution_count": 1,
   "metadata": {},
   "outputs": [],
   "source": [
    "import pandas as pd\n",
    "import matplotlib.pyplot as plt\n",
    "import seaborn as sns\n",
    "sns.set()"
   ]
  },
  {
   "cell_type": "code",
   "execution_count": 2,
   "metadata": {},
   "outputs": [
    {
     "data": {
      "text/html": [
       "<div>\n",
       "<style scoped>\n",
       "    .dataframe tbody tr th:only-of-type {\n",
       "        vertical-align: middle;\n",
       "    }\n",
       "\n",
       "    .dataframe tbody tr th {\n",
       "        vertical-align: top;\n",
       "    }\n",
       "\n",
       "    .dataframe thead th {\n",
       "        text-align: right;\n",
       "    }\n",
       "</style>\n",
       "<table border=\"1\" class=\"dataframe\">\n",
       "  <thead>\n",
       "    <tr style=\"text-align: right;\">\n",
       "      <th></th>\n",
       "      <th>Activity Category</th>\n",
       "      <th>Number of Business Units (in million)</th>\n",
       "    </tr>\n",
       "  </thead>\n",
       "  <tbody>\n",
       "    <tr>\n",
       "      <th>0</th>\n",
       "      <td>Micro Enterprises</td>\n",
       "      <td>63.050</td>\n",
       "    </tr>\n",
       "    <tr>\n",
       "      <th>1</th>\n",
       "      <td>Small Enterprises</td>\n",
       "      <td>0.330</td>\n",
       "    </tr>\n",
       "    <tr>\n",
       "      <th>2</th>\n",
       "      <td>Medium Enterprises</td>\n",
       "      <td>0.005</td>\n",
       "    </tr>\n",
       "  </tbody>\n",
       "</table>\n",
       "</div>"
      ],
      "text/plain": [
       "    Activity Category  Number of Business Units (in million)\n",
       "0   Micro Enterprises                                 63.050\n",
       "1   Small Enterprises                                  0.330\n",
       "2  Medium Enterprises                                  0.005"
      ]
     },
     "execution_count": 2,
     "metadata": {},
     "output_type": "execute_result"
    }
   ],
   "source": [
    "data=pd.DataFrame()\n",
    "data['Activity Category']=['Micro Enterprises','Small Enterprises','Medium Enterprises']\n",
    "data['Number of Business Units (in million)']=[63.05,0.33,0.005]\n",
    "data"
   ]
  },
  {
   "cell_type": "markdown",
   "metadata": {},
   "source": [
    "## <span style='font-family:\"Times New Roman\"'>Estimated Number of MSMEs (Activity Wise)</span>     "
   ]
  },
  {
   "cell_type": "code",
   "execution_count": 3,
   "metadata": {},
   "outputs": [
    {
     "data": {
      "text/html": [
       "<style  type=\"text/css\" >\n",
       "    #T_b4cb387e_c7f7_11ea_baa9_8c1645e7f884row0_col1 {\n",
       "            background-color:  #cbfdcb;\n",
       "            color:  #000000;\n",
       "        }    #T_b4cb387e_c7f7_11ea_baa9_8c1645e7f884row0_col2 {\n",
       "            background-color:  #d2fdd2;\n",
       "            color:  #000000;\n",
       "        }    #T_b4cb387e_c7f7_11ea_baa9_8c1645e7f884row0_col3 {\n",
       "            background-color:  #cefdce;\n",
       "            color:  #000000;\n",
       "        }    #T_b4cb387e_c7f7_11ea_baa9_8c1645e7f884row0_col4 {\n",
       "            background-color:  #cefdce;\n",
       "            color:  #000000;\n",
       "        }    #T_b4cb387e_c7f7_11ea_baa9_8c1645e7f884row1_col1 {\n",
       "            background-color:  #ccfdcc;\n",
       "            color:  #000000;\n",
       "        }    #T_b4cb387e_c7f7_11ea_baa9_8c1645e7f884row1_col2 {\n",
       "            background-color:  #c8fdc8;\n",
       "            color:  #000000;\n",
       "        }    #T_b4cb387e_c7f7_11ea_baa9_8c1645e7f884row1_col3 {\n",
       "            background-color:  #cafdca;\n",
       "            color:  #000000;\n",
       "        }    #T_b4cb387e_c7f7_11ea_baa9_8c1645e7f884row1_col4 {\n",
       "            background-color:  #cafdca;\n",
       "            color:  #000000;\n",
       "        }    #T_b4cb387e_c7f7_11ea_baa9_8c1645e7f884row2_col1 {\n",
       "            background-color:  #cefdce;\n",
       "            color:  #000000;\n",
       "        }    #T_b4cb387e_c7f7_11ea_baa9_8c1645e7f884row2_col2 {\n",
       "            background-color:  #ccfdcc;\n",
       "            color:  #000000;\n",
       "        }    #T_b4cb387e_c7f7_11ea_baa9_8c1645e7f884row2_col3 {\n",
       "            background-color:  #cdfdcd;\n",
       "            color:  #000000;\n",
       "        }    #T_b4cb387e_c7f7_11ea_baa9_8c1645e7f884row2_col4 {\n",
       "            background-color:  #cdfdcd;\n",
       "            color:  #000000;\n",
       "        }    #T_b4cb387e_c7f7_11ea_baa9_8c1645e7f884row3_col1 {\n",
       "            background-color:  #e6fee6;\n",
       "            color:  #000000;\n",
       "        }    #T_b4cb387e_c7f7_11ea_baa9_8c1645e7f884row3_col2 {\n",
       "            background-color:  #e6fee6;\n",
       "            color:  #000000;\n",
       "        }    #T_b4cb387e_c7f7_11ea_baa9_8c1645e7f884row3_col3 {\n",
       "            background-color:  #e6fee6;\n",
       "            color:  #000000;\n",
       "        }    #T_b4cb387e_c7f7_11ea_baa9_8c1645e7f884row3_col4 {\n",
       "            background-color:  #e6fee6;\n",
       "            color:  #000000;\n",
       "        }    #T_b4cb387e_c7f7_11ea_baa9_8c1645e7f884row4_col1 {\n",
       "            background-color:  #98fb98;\n",
       "            color:  #000000;\n",
       "        }    #T_b4cb387e_c7f7_11ea_baa9_8c1645e7f884row4_col2 {\n",
       "            background-color:  #98fb98;\n",
       "            color:  #000000;\n",
       "        }    #T_b4cb387e_c7f7_11ea_baa9_8c1645e7f884row4_col3 {\n",
       "            background-color:  #98fb98;\n",
       "            color:  #000000;\n",
       "        }    #T_b4cb387e_c7f7_11ea_baa9_8c1645e7f884row4_col4 {\n",
       "            background-color:  #98fb98;\n",
       "            color:  #000000;\n",
       "        }</style><table id=\"T_b4cb387e_c7f7_11ea_baa9_8c1645e7f884\" ><thead>    <tr>        <th class=\"blank level0\" ></th>        <th class=\"col_heading level0 col0\" >Activity Category</th>        <th class=\"col_heading level0 col1\" >Rural (in lakh)</th>        <th class=\"col_heading level0 col2\" >Urban (in lakh)</th>        <th class=\"col_heading level0 col3\" >Total (in lakh)</th>        <th class=\"col_heading level0 col4\" >Share(%)</th>    </tr></thead><tbody>\n",
       "                <tr>\n",
       "                        <th id=\"T_b4cb387e_c7f7_11ea_baa9_8c1645e7f884level0_row0\" class=\"row_heading level0 row0\" >0</th>\n",
       "                        <td id=\"T_b4cb387e_c7f7_11ea_baa9_8c1645e7f884row0_col0\" class=\"data row0 col0\" >Manufacturing Sector</td>\n",
       "                        <td id=\"T_b4cb387e_c7f7_11ea_baa9_8c1645e7f884row0_col1\" class=\"data row0 col1\" >114.14</td>\n",
       "                        <td id=\"T_b4cb387e_c7f7_11ea_baa9_8c1645e7f884row0_col2\" class=\"data row0 col2\" >82.5</td>\n",
       "                        <td id=\"T_b4cb387e_c7f7_11ea_baa9_8c1645e7f884row0_col3\" class=\"data row0 col3\" >196.65</td>\n",
       "                        <td id=\"T_b4cb387e_c7f7_11ea_baa9_8c1645e7f884row0_col4\" class=\"data row0 col4\" >31</td>\n",
       "            </tr>\n",
       "            <tr>\n",
       "                        <th id=\"T_b4cb387e_c7f7_11ea_baa9_8c1645e7f884level0_row1\" class=\"row_heading level0 row1\" >1</th>\n",
       "                        <td id=\"T_b4cb387e_c7f7_11ea_baa9_8c1645e7f884row1_col0\" class=\"data row1 col0\" >Trading Sector</td>\n",
       "                        <td id=\"T_b4cb387e_c7f7_11ea_baa9_8c1645e7f884row1_col1\" class=\"data row1 col1\" >108.71</td>\n",
       "                        <td id=\"T_b4cb387e_c7f7_11ea_baa9_8c1645e7f884row1_col2\" class=\"data row1 col2\" >121.64</td>\n",
       "                        <td id=\"T_b4cb387e_c7f7_11ea_baa9_8c1645e7f884row1_col3\" class=\"data row1 col3\" >230.35</td>\n",
       "                        <td id=\"T_b4cb387e_c7f7_11ea_baa9_8c1645e7f884row1_col4\" class=\"data row1 col4\" >36</td>\n",
       "            </tr>\n",
       "            <tr>\n",
       "                        <th id=\"T_b4cb387e_c7f7_11ea_baa9_8c1645e7f884level0_row2\" class=\"row_heading level0 row2\" >2</th>\n",
       "                        <td id=\"T_b4cb387e_c7f7_11ea_baa9_8c1645e7f884row2_col0\" class=\"data row2 col0\" >Service Sector</td>\n",
       "                        <td id=\"T_b4cb387e_c7f7_11ea_baa9_8c1645e7f884row2_col1\" class=\"data row2 col1\" >102</td>\n",
       "                        <td id=\"T_b4cb387e_c7f7_11ea_baa9_8c1645e7f884row2_col2\" class=\"data row2 col2\" >104.85</td>\n",
       "                        <td id=\"T_b4cb387e_c7f7_11ea_baa9_8c1645e7f884row2_col3\" class=\"data row2 col3\" >206.85</td>\n",
       "                        <td id=\"T_b4cb387e_c7f7_11ea_baa9_8c1645e7f884row2_col4\" class=\"data row2 col4\" >33</td>\n",
       "            </tr>\n",
       "            <tr>\n",
       "                        <th id=\"T_b4cb387e_c7f7_11ea_baa9_8c1645e7f884level0_row3\" class=\"row_heading level0 row3\" >3</th>\n",
       "                        <td id=\"T_b4cb387e_c7f7_11ea_baa9_8c1645e7f884row3_col0\" class=\"data row3 col0\" >Electricity*</td>\n",
       "                        <td id=\"T_b4cb387e_c7f7_11ea_baa9_8c1645e7f884row3_col1\" class=\"data row3 col1\" >0.03</td>\n",
       "                        <td id=\"T_b4cb387e_c7f7_11ea_baa9_8c1645e7f884row3_col2\" class=\"data row3 col2\" >0.01</td>\n",
       "                        <td id=\"T_b4cb387e_c7f7_11ea_baa9_8c1645e7f884row3_col3\" class=\"data row3 col3\" >0.03</td>\n",
       "                        <td id=\"T_b4cb387e_c7f7_11ea_baa9_8c1645e7f884row3_col4\" class=\"data row3 col4\" >0</td>\n",
       "            </tr>\n",
       "            <tr>\n",
       "                        <th id=\"T_b4cb387e_c7f7_11ea_baa9_8c1645e7f884level0_row4\" class=\"row_heading level0 row4\" >4</th>\n",
       "                        <td id=\"T_b4cb387e_c7f7_11ea_baa9_8c1645e7f884row4_col0\" class=\"data row4 col0\" >All</td>\n",
       "                        <td id=\"T_b4cb387e_c7f7_11ea_baa9_8c1645e7f884row4_col1\" class=\"data row4 col1\" >324.88</td>\n",
       "                        <td id=\"T_b4cb387e_c7f7_11ea_baa9_8c1645e7f884row4_col2\" class=\"data row4 col2\" >309</td>\n",
       "                        <td id=\"T_b4cb387e_c7f7_11ea_baa9_8c1645e7f884row4_col3\" class=\"data row4 col3\" >633.88</td>\n",
       "                        <td id=\"T_b4cb387e_c7f7_11ea_baa9_8c1645e7f884row4_col4\" class=\"data row4 col4\" >100</td>\n",
       "            </tr>\n",
       "    </tbody></table>"
      ],
      "text/plain": [
       "<pandas.io.formats.style.Styler at 0x233f95131d0>"
      ]
     },
     "execution_count": 3,
     "metadata": {},
     "output_type": "execute_result"
    }
   ],
   "source": [
    "data1=pd.read_csv(r\"Necessary_Files\\msmecateg.csv\")\n",
    "cm = sns.light_palette(\"palegreen\", as_cmap=True)\n",
    "s = data1.style.background_gradient(cmap=cm)\n",
    "s"
   ]
  },
  {
   "cell_type": "markdown",
   "metadata": {},
   "source": [
    "## <span style='font-family:\"Times New Roman\"'>Distribution of Enterprises (Category Wise)</span>     "
   ]
  },
  {
   "cell_type": "code",
   "execution_count": 4,
   "metadata": {},
   "outputs": [
    {
     "data": {
      "text/html": [
       "<style  type=\"text/css\" >\n",
       "    #T_b4d08002_c7f7_11ea_aeb6_8c1645e7f884row0_col1 {\n",
       "            background-color:  #e2f3fe;\n",
       "            color:  #000000;\n",
       "        }    #T_b4d08002_c7f7_11ea_aeb6_8c1645e7f884row0_col2 {\n",
       "            background-color:  #e7f5fe;\n",
       "            color:  #000000;\n",
       "        }    #T_b4d08002_c7f7_11ea_aeb6_8c1645e7f884row0_col3 {\n",
       "            background-color:  #e7f5fe;\n",
       "            color:  #000000;\n",
       "        }    #T_b4d08002_c7f7_11ea_aeb6_8c1645e7f884row0_col4 {\n",
       "            background-color:  #e2f3fe;\n",
       "            color:  #000000;\n",
       "        }    #T_b4d08002_c7f7_11ea_aeb6_8c1645e7f884row0_col5 {\n",
       "            background-color:  #e3f3fe;\n",
       "            color:  #000000;\n",
       "        }    #T_b4d08002_c7f7_11ea_aeb6_8c1645e7f884row1_col1 {\n",
       "            background-color:  #e7f5fe;\n",
       "            color:  #000000;\n",
       "        }    #T_b4d08002_c7f7_11ea_aeb6_8c1645e7f884row1_col2 {\n",
       "            background-color:  #a4dafb;\n",
       "            color:  #000000;\n",
       "        }    #T_b4d08002_c7f7_11ea_aeb6_8c1645e7f884row1_col3 {\n",
       "            background-color:  #9fd8fb;\n",
       "            color:  #000000;\n",
       "        }    #T_b4d08002_c7f7_11ea_aeb6_8c1645e7f884row1_col4 {\n",
       "            background-color:  #e7f5fe;\n",
       "            color:  #000000;\n",
       "        }    #T_b4d08002_c7f7_11ea_aeb6_8c1645e7f884row1_col5 {\n",
       "            background-color:  #e7f5fe;\n",
       "            color:  #000000;\n",
       "        }    #T_b4d08002_c7f7_11ea_aeb6_8c1645e7f884row2_col1 {\n",
       "            background-color:  #87cefa;\n",
       "            color:  #000000;\n",
       "        }    #T_b4d08002_c7f7_11ea_aeb6_8c1645e7f884row2_col2 {\n",
       "            background-color:  #87cefa;\n",
       "            color:  #000000;\n",
       "        }    #T_b4d08002_c7f7_11ea_aeb6_8c1645e7f884row2_col3 {\n",
       "            background-color:  #87cefa;\n",
       "            color:  #000000;\n",
       "        }    #T_b4d08002_c7f7_11ea_aeb6_8c1645e7f884row2_col4 {\n",
       "            background-color:  #87cefa;\n",
       "            color:  #000000;\n",
       "        }    #T_b4d08002_c7f7_11ea_aeb6_8c1645e7f884row2_col5 {\n",
       "            background-color:  #87cefa;\n",
       "            color:  #000000;\n",
       "        }</style><table id=\"T_b4d08002_c7f7_11ea_aeb6_8c1645e7f884\" ><thead>    <tr>        <th class=\"blank level0\" ></th>        <th class=\"col_heading level0 col0\" >Sector</th>        <th class=\"col_heading level0 col1\" >Micro (in lakh)</th>        <th class=\"col_heading level0 col2\" >Small (in lakh)</th>        <th class=\"col_heading level0 col3\" >Medium (in lakh)</th>        <th class=\"col_heading level0 col4\" >Total (in lakh)</th>        <th class=\"col_heading level0 col5\" >Share(%)</th>    </tr></thead><tbody>\n",
       "                <tr>\n",
       "                        <th id=\"T_b4d08002_c7f7_11ea_aeb6_8c1645e7f884level0_row0\" class=\"row_heading level0 row0\" >0</th>\n",
       "                        <td id=\"T_b4d08002_c7f7_11ea_aeb6_8c1645e7f884row0_col0\" class=\"data row0 col0\" >Rural</td>\n",
       "                        <td id=\"T_b4d08002_c7f7_11ea_aeb6_8c1645e7f884row0_col1\" class=\"data row0 col1\" >324.09</td>\n",
       "                        <td id=\"T_b4d08002_c7f7_11ea_aeb6_8c1645e7f884row0_col2\" class=\"data row0 col2\" >0.78</td>\n",
       "                        <td id=\"T_b4d08002_c7f7_11ea_aeb6_8c1645e7f884row0_col3\" class=\"data row0 col3\" >0.01</td>\n",
       "                        <td id=\"T_b4d08002_c7f7_11ea_aeb6_8c1645e7f884row0_col4\" class=\"data row0 col4\" >324.88</td>\n",
       "                        <td id=\"T_b4d08002_c7f7_11ea_aeb6_8c1645e7f884row0_col5\" class=\"data row0 col5\" >51</td>\n",
       "            </tr>\n",
       "            <tr>\n",
       "                        <th id=\"T_b4d08002_c7f7_11ea_aeb6_8c1645e7f884level0_row1\" class=\"row_heading level0 row1\" >1</th>\n",
       "                        <td id=\"T_b4d08002_c7f7_11ea_aeb6_8c1645e7f884row1_col0\" class=\"data row1 col0\" >Urban</td>\n",
       "                        <td id=\"T_b4d08002_c7f7_11ea_aeb6_8c1645e7f884row1_col1\" class=\"data row1 col1\" >306.43</td>\n",
       "                        <td id=\"T_b4d08002_c7f7_11ea_aeb6_8c1645e7f884row1_col2\" class=\"data row1 col2\" >2.53</td>\n",
       "                        <td id=\"T_b4d08002_c7f7_11ea_aeb6_8c1645e7f884row1_col3\" class=\"data row1 col3\" >0.04</td>\n",
       "                        <td id=\"T_b4d08002_c7f7_11ea_aeb6_8c1645e7f884row1_col4\" class=\"data row1 col4\" >309</td>\n",
       "                        <td id=\"T_b4d08002_c7f7_11ea_aeb6_8c1645e7f884row1_col5\" class=\"data row1 col5\" >49</td>\n",
       "            </tr>\n",
       "            <tr>\n",
       "                        <th id=\"T_b4d08002_c7f7_11ea_aeb6_8c1645e7f884level0_row2\" class=\"row_heading level0 row2\" >2</th>\n",
       "                        <td id=\"T_b4d08002_c7f7_11ea_aeb6_8c1645e7f884row2_col0\" class=\"data row2 col0\" >All</td>\n",
       "                        <td id=\"T_b4d08002_c7f7_11ea_aeb6_8c1645e7f884row2_col1\" class=\"data row2 col1\" >630.52</td>\n",
       "                        <td id=\"T_b4d08002_c7f7_11ea_aeb6_8c1645e7f884row2_col2\" class=\"data row2 col2\" >3.31</td>\n",
       "                        <td id=\"T_b4d08002_c7f7_11ea_aeb6_8c1645e7f884row2_col3\" class=\"data row2 col3\" >0.05</td>\n",
       "                        <td id=\"T_b4d08002_c7f7_11ea_aeb6_8c1645e7f884row2_col4\" class=\"data row2 col4\" >633.88</td>\n",
       "                        <td id=\"T_b4d08002_c7f7_11ea_aeb6_8c1645e7f884row2_col5\" class=\"data row2 col5\" >100</td>\n",
       "            </tr>\n",
       "    </tbody></table>"
      ],
      "text/plain": [
       "<pandas.io.formats.style.Styler at 0x233f9513198>"
      ]
     },
     "execution_count": 4,
     "metadata": {},
     "output_type": "execute_result"
    }
   ],
   "source": [
    "data2=pd.read_csv(r\"Necessary_Files\\msmedist.csv\")\n",
    "cm = sns.light_palette(\"lightskyblue\", as_cmap=True)\n",
    "s1 = data2.style.background_gradient(cmap=cm)\n",
    "s1"
   ]
  },
  {
   "cell_type": "markdown",
   "metadata": {},
   "source": [
    "# <span style='background :wheat'><span style='font-family:\"Times New Roman\"'>Operating Costs ↔ MSME Enterprises </span>"
   ]
  },
  {
   "cell_type": "code",
   "execution_count": 5,
   "metadata": {},
   "outputs": [
    {
     "data": {
      "text/html": [
       "<style  type=\"text/css\" >\n",
       "    #T_b4df0564_c7f7_11ea_9027_8c1645e7f884row0_col1 {\n",
       "            background-color:  #eee8aa;\n",
       "            color:  #000000;\n",
       "        }    #T_b4df0564_c7f7_11ea_9027_8c1645e7f884row1_col1 {\n",
       "            background-color:  #faf9e8;\n",
       "            color:  #000000;\n",
       "        }    #T_b4df0564_c7f7_11ea_9027_8c1645e7f884row2_col1 {\n",
       "            background-color:  #fbf9ea;\n",
       "            color:  #000000;\n",
       "        }</style><table id=\"T_b4df0564_c7f7_11ea_9027_8c1645e7f884\" ><thead>    <tr>        <th class=\"blank level0\" ></th>        <th class=\"col_heading level0 col0\" >MSME Enterprise</th>        <th class=\"col_heading level0 col1\" >Per Month Operating Cost (lakh-crore)</th>    </tr></thead><tbody>\n",
       "                <tr>\n",
       "                        <th id=\"T_b4df0564_c7f7_11ea_9027_8c1645e7f884level0_row0\" class=\"row_heading level0 row0\" >0</th>\n",
       "                        <td id=\"T_b4df0564_c7f7_11ea_9027_8c1645e7f884row0_col0\" class=\"data row0 col0\" >Micro</td>\n",
       "                        <td id=\"T_b4df0564_c7f7_11ea_9027_8c1645e7f884row0_col1\" class=\"data row0 col1\" >2.8937</td>\n",
       "            </tr>\n",
       "            <tr>\n",
       "                        <th id=\"T_b4df0564_c7f7_11ea_9027_8c1645e7f884level0_row1\" class=\"row_heading level0 row1\" >1</th>\n",
       "                        <td id=\"T_b4df0564_c7f7_11ea_9027_8c1645e7f884row1_col0\" class=\"data row1 col0\" >Small</td>\n",
       "                        <td id=\"T_b4df0564_c7f7_11ea_9027_8c1645e7f884row1_col1\" class=\"data row1 col1\" >0.0765</td>\n",
       "            </tr>\n",
       "            <tr>\n",
       "                        <th id=\"T_b4df0564_c7f7_11ea_9027_8c1645e7f884level0_row2\" class=\"row_heading level0 row2\" >2</th>\n",
       "                        <td id=\"T_b4df0564_c7f7_11ea_9027_8c1645e7f884row2_col0\" class=\"data row2 col0\" >Medium</td>\n",
       "                        <td id=\"T_b4df0564_c7f7_11ea_9027_8c1645e7f884row2_col1\" class=\"data row2 col1\" >0.0062</td>\n",
       "            </tr>\n",
       "    </tbody></table>"
      ],
      "text/plain": [
       "<pandas.io.formats.style.Styler at 0x233fa997668>"
      ]
     },
     "execution_count": 5,
     "metadata": {},
     "output_type": "execute_result"
    }
   ],
   "source": [
    "data8=pd.DataFrame()\n",
    "data8['MSME Enterprise']=['Micro','Small','Medium']\n",
    "data8['Per Month Operating Cost (lakh-crore)']=[2.8937,0.0765,0.0062]\n",
    "cm = sns.light_palette(\"palegoldenrod\", as_cmap=True)\n",
    "s3 = data8.style.background_gradient(cmap=cm)\n",
    "s3"
   ]
  },
  {
   "cell_type": "markdown",
   "metadata": {},
   "source": [
    "## <span style='font-family:\"Times New Roman\"'>Total loan amount required for 1 month</span>     "
   ]
  },
  {
   "cell_type": "code",
   "execution_count": 6,
   "metadata": {},
   "outputs": [
    {
     "data": {
      "text/plain": [
       "2.9764"
      ]
     },
     "execution_count": 6,
     "metadata": {},
     "output_type": "execute_result"
    }
   ],
   "source": [
    "data8['Per Month Operating Cost (lakh-crore)'].sum()"
   ]
  },
  {
   "cell_type": "markdown",
   "metadata": {},
   "source": [
    "## <span style='background :paleturquoise'><span style='font-family:\"Times New Roman\"'>2.9764 Lakh Crores</span> "
   ]
  },
  {
   "cell_type": "code",
   "execution_count": null,
   "metadata": {},
   "outputs": [],
   "source": []
  },
  {
   "cell_type": "code",
   "execution_count": null,
   "metadata": {},
   "outputs": [],
   "source": []
  }
 ],
 "metadata": {
  "kernelspec": {
   "display_name": "Python 3",
   "language": "python",
   "name": "python3"
  },
  "language_info": {
   "codemirror_mode": {
    "name": "ipython",
    "version": 3
   },
   "file_extension": ".py",
   "mimetype": "text/x-python",
   "name": "python",
   "nbconvert_exporter": "python",
   "pygments_lexer": "ipython3",
   "version": "3.7.3"
  }
 },
 "nbformat": 4,
 "nbformat_minor": 2
}
