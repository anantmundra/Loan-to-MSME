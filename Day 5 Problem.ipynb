{
 "cells": [
  {
   "cell_type": "markdown",
   "metadata": {},
   "source": [
    "# <span style='background :beige'><span style='font-family:\"Times New Roman\"'>Q5. How will you monitor risk, for all types of issuers of loans?</span> "
   ]
  },
  {
   "cell_type": "markdown",
   "metadata": {},
   "source": [
    "## <span style='background :paleturquoise'><span style='font-family:\"Times New Roman\"'>Importing Necessary Libraries</span> "
   ]
  },
  {
   "cell_type": "code",
   "execution_count": 1,
   "metadata": {},
   "outputs": [],
   "source": [
    "import numpy as np\n",
    "import pandas as pd\n",
    "import matplotlib.pyplot as plt\n",
    "import seaborn as sns\n",
    "sns.set()"
   ]
  },
  {
   "cell_type": "markdown",
   "metadata": {},
   "source": [
    "## <span style='background :wheat'><span style='font-family:\"Times New Roman\"'>Risk Management Dashboard</span> "
   ]
  },
  {
   "cell_type": "code",
   "execution_count": 2,
   "metadata": {},
   "outputs": [
    {
     "data": {
      "text/html": [
       "<div>\n",
       "<style scoped>\n",
       "    .dataframe tbody tr th:only-of-type {\n",
       "        vertical-align: middle;\n",
       "    }\n",
       "\n",
       "    .dataframe tbody tr th {\n",
       "        vertical-align: top;\n",
       "    }\n",
       "\n",
       "    .dataframe thead th {\n",
       "        text-align: right;\n",
       "    }\n",
       "</style>\n",
       "<table border=\"1\" class=\"dataframe\">\n",
       "  <thead>\n",
       "    <tr style=\"text-align: right;\">\n",
       "      <th></th>\n",
       "      <th>Risk Score (1-10)</th>\n",
       "      <th>Type of Flag</th>\n",
       "      <th>Interest Condition</th>\n",
       "    </tr>\n",
       "  </thead>\n",
       "  <tbody>\n",
       "    <tr>\n",
       "      <th>0</th>\n",
       "      <td>1-4</td>\n",
       "      <td>Green Flag</td>\n",
       "      <td>Base Lending Rate</td>\n",
       "    </tr>\n",
       "    <tr>\n",
       "      <th>1</th>\n",
       "      <td>5-7</td>\n",
       "      <td>Yellow Flag</td>\n",
       "      <td>Extra Risk Premium 1%</td>\n",
       "    </tr>\n",
       "    <tr>\n",
       "      <th>2</th>\n",
       "      <td>7-10</td>\n",
       "      <td>Red Flag</td>\n",
       "      <td>Extra Risk Premium 2%</td>\n",
       "    </tr>\n",
       "  </tbody>\n",
       "</table>\n",
       "</div>"
      ],
      "text/plain": [
       "  Risk Score (1-10) Type of Flag     Interest Condition\n",
       "0               1-4   Green Flag      Base Lending Rate\n",
       "1               5-7  Yellow Flag  Extra Risk Premium 1%\n",
       "2              7-10     Red Flag  Extra Risk Premium 2%"
      ]
     },
     "execution_count": 2,
     "metadata": {},
     "output_type": "execute_result"
    }
   ],
   "source": [
    "data=pd.DataFrame()\n",
    "data['Risk Score (1-10)']=['1-4','5-7','7-10']\n",
    "data['Type of Flag']=['Green Flag','Yellow Flag','Red Flag']\n",
    "data['Interest Condition']=['Base Lending Rate','Extra Risk Premium 1%','Extra Risk Premium 2%']\n",
    "data"
   ]
  },
  {
   "cell_type": "markdown",
   "metadata": {},
   "source": [
    "# <span style='background :paleturquoise'><span style='font-family:\"Times New Roman\"'>I. Predictive Analysis</span> "
   ]
  },
  {
   "cell_type": "markdown",
   "metadata": {},
   "source": [
    "### <span style='background :palegreen'><span style='font-family:\"Times New Roman\"'>Predictive Analysis Risk Model</span> "
   ]
  },
  {
   "cell_type": "code",
   "execution_count": 3,
   "metadata": {},
   "outputs": [
    {
     "data": {
      "text/html": [
       "<div>\n",
       "<style scoped>\n",
       "    .dataframe tbody tr th:only-of-type {\n",
       "        vertical-align: middle;\n",
       "    }\n",
       "\n",
       "    .dataframe tbody tr th {\n",
       "        vertical-align: top;\n",
       "    }\n",
       "\n",
       "    .dataframe thead th {\n",
       "        text-align: right;\n",
       "    }\n",
       "</style>\n",
       "<table border=\"1\" class=\"dataframe\">\n",
       "  <thead>\n",
       "    <tr style=\"text-align: right;\">\n",
       "      <th></th>\n",
       "      <th>Employee Benefit Transfers (60%)</th>\n",
       "      <th>Credit Card Expenditure (30%)</th>\n",
       "      <th>Social-Web Analytics Count (10%)</th>\n",
       "      <th>Risk Score (1-10)</th>\n",
       "    </tr>\n",
       "  </thead>\n",
       "  <tbody>\n",
       "    <tr>\n",
       "      <th>0</th>\n",
       "      <td>cc expnd / tot emp sal ≥ 1</td>\n",
       "      <td>constant half-yearly</td>\n",
       "      <td>good</td>\n",
       "      <td>1</td>\n",
       "    </tr>\n",
       "    <tr>\n",
       "      <th>1</th>\n",
       "      <td>1 &gt; cc expnd / tot emp sal ≥ 0.7</td>\n",
       "      <td>partly constant half-yearly</td>\n",
       "      <td>average</td>\n",
       "      <td>4</td>\n",
       "    </tr>\n",
       "    <tr>\n",
       "      <th>2</th>\n",
       "      <td>0.7 &gt; cc expnd / tot emp sal ≥ 0.4</td>\n",
       "      <td>partly varies quarterly</td>\n",
       "      <td>fair</td>\n",
       "      <td>7</td>\n",
       "    </tr>\n",
       "    <tr>\n",
       "      <th>3</th>\n",
       "      <td>0.4 &gt; cc expnd / tot emp sal &gt; 0.1</td>\n",
       "      <td>varies quarterly</td>\n",
       "      <td>poor</td>\n",
       "      <td>10</td>\n",
       "    </tr>\n",
       "  </tbody>\n",
       "</table>\n",
       "</div>"
      ],
      "text/plain": [
       "     Employee Benefit Transfers (60%) Credit Card Expenditure (30%)  \\\n",
       "0          cc expnd / tot emp sal ≥ 1          constant half-yearly   \n",
       "1    1 > cc expnd / tot emp sal ≥ 0.7   partly constant half-yearly   \n",
       "2  0.7 > cc expnd / tot emp sal ≥ 0.4       partly varies quarterly   \n",
       "3  0.4 > cc expnd / tot emp sal > 0.1              varies quarterly   \n",
       "\n",
       "  Social-Web Analytics Count (10%)  Risk Score (1-10)  \n",
       "0                            good                   1  \n",
       "1                          average                  4  \n",
       "2                             fair                  7  \n",
       "3                             poor                 10  "
      ]
     },
     "execution_count": 3,
     "metadata": {},
     "output_type": "execute_result"
    }
   ],
   "source": [
    "data1=pd.DataFrame()\n",
    "data1['Employee Benefit Transfers (60%)']=['cc expnd / tot emp sal ≥ 1','1 > cc expnd / tot emp sal ≥ 0.7','0.7 > cc expnd / tot emp sal ≥ 0.4','0.4 > cc expnd / tot emp sal > 0.1']\n",
    "data1['Credit Card Expenditure (30%)']=['constant half-yearly','partly constant half-yearly','partly varies quarterly','varies quarterly']\n",
    "data1['Social-Web Analytics Count (10%)']=['good ','average','fair','poor']\n",
    "data1['Risk Score (1-10)']=[1,4,7,10]\n",
    "data1"
   ]
  },
  {
   "cell_type": "code",
   "execution_count": 4,
   "metadata": {},
   "outputs": [
    {
     "name": "stdout",
     "output_type": "stream",
     "text": [
      "Enter the type of enterprise: Micro Enterprise\n",
      "Enter the type of sector: Service Sector\n",
      "Enter the number of employees in your firm: 20\n",
      "Enter the employee salary per month: 10000\n",
      "Enter the per month expenditure of your credt_card: 250000\n",
      "Credit card fluctuation: partly constant half-yearly\n",
      "\n",
      "RATIO:\n",
      "Credit Card Expenditure / Total Employee Salary =  1.25\n"
     ]
    }
   ],
   "source": [
    "type_enterprise=input('Enter the type of enterprise: ')\n",
    "type_sector=input('Enter the type of sector: ')\n",
    "no_of_emp=int(input('Enter the number of employees in your firm: '))\n",
    "salary_emp=float(input('Enter the employee salary per month: '))\n",
    "cr_card_ex=float(input('Enter the per month expenditure of your credt_card: '))\n",
    "fluc=input('Credit card fluctuation: ')\n",
    "print()\n",
    "print('RATIO:')\n",
    "print('Credit Card Expenditure / Total Employee Salary = ',(cr_card_ex)/(no_of_emp*salary_emp))"
   ]
  },
  {
   "cell_type": "code",
   "execution_count": 5,
   "metadata": {},
   "outputs": [
    {
     "data": {
      "text/plain": [
       "2.95"
      ]
     },
     "execution_count": 5,
     "metadata": {},
     "output_type": "execute_result"
    }
   ],
   "source": [
    "a=0.6*(cr_card_ex)/(no_of_emp*salary_emp)\n",
    "if(fluc=='constant half-yearly'):\n",
    "    b=1\n",
    "elif(fluc=='partly constant half-yearly'):\n",
    "    b=4\n",
    "elif(fluc=='partly varies quarterly'):\n",
    "    b=7\n",
    "else:\n",
    "    b=10\n",
    "c=0.3*b\n",
    "if(fluc=='good'):\n",
    "    d=1\n",
    "elif(fluc=='average'):\n",
    "    d=4\n",
    "elif(fluc=='fair'):\n",
    "    d=7\n",
    "else:\n",
    "    d=10\n",
    "e=0.1*d\n",
    "a+c+e"
   ]
  },
  {
   "cell_type": "markdown",
   "metadata": {},
   "source": [
    "## <span style='font-family:\"Times New Roman\"'>Your Risk Score ↔ Predictive Analysis  </span>\n",
    "# <span style='background :lawngreen'><span style='font-family:\"Times New Roman\"'>2.86 </span>"
   ]
  },
  {
   "cell_type": "markdown",
   "metadata": {},
   "source": [
    "# <span style='background :paleturquoise'><span style='font-family:\"Times New Roman\"'>II. Reporting Analysis</span> "
   ]
  },
  {
   "cell_type": "markdown",
   "metadata": {},
   "source": [
    "### <span style='background :palegreen'><span style='font-family:\"Times New Roman\"'>Reporting Analysis Risk Model</span> "
   ]
  },
  {
   "cell_type": "code",
   "execution_count": 6,
   "metadata": {},
   "outputs": [
    {
     "data": {
      "text/html": [
       "<div>\n",
       "<style scoped>\n",
       "    .dataframe tbody tr th:only-of-type {\n",
       "        vertical-align: middle;\n",
       "    }\n",
       "\n",
       "    .dataframe tbody tr th {\n",
       "        vertical-align: top;\n",
       "    }\n",
       "\n",
       "    .dataframe thead th {\n",
       "        text-align: right;\n",
       "    }\n",
       "</style>\n",
       "<table border=\"1\" class=\"dataframe\">\n",
       "  <thead>\n",
       "    <tr style=\"text-align: right;\">\n",
       "      <th></th>\n",
       "      <th>Missed and Delayed Payments (60%)</th>\n",
       "      <th>Pre-payments (5%)</th>\n",
       "      <th>Periodic Payments (20%)</th>\n",
       "      <th>Tax Filings (15%)</th>\n",
       "      <th>Risk Score (1-10)</th>\n",
       "    </tr>\n",
       "  </thead>\n",
       "  <tbody>\n",
       "    <tr>\n",
       "      <th>0</th>\n",
       "      <td>dues=0</td>\n",
       "      <td>if any ✓</td>\n",
       "      <td>constant</td>\n",
       "      <td>penalty = 0</td>\n",
       "      <td>1</td>\n",
       "    </tr>\n",
       "    <tr>\n",
       "      <th>1</th>\n",
       "      <td>0 &lt; dues ≤ 2</td>\n",
       "      <td>none ✕</td>\n",
       "      <td>partly constant</td>\n",
       "      <td>0 &lt; penalties ≤ 1</td>\n",
       "      <td>4</td>\n",
       "    </tr>\n",
       "    <tr>\n",
       "      <th>2</th>\n",
       "      <td>2 &lt; dues ≤ 5</td>\n",
       "      <td></td>\n",
       "      <td>partly varies</td>\n",
       "      <td>1 &lt; penalties ≤ 2</td>\n",
       "      <td>7</td>\n",
       "    </tr>\n",
       "    <tr>\n",
       "      <th>3</th>\n",
       "      <td>dues &gt; 5</td>\n",
       "      <td></td>\n",
       "      <td>varies</td>\n",
       "      <td>penalties &gt; 2</td>\n",
       "      <td>10</td>\n",
       "    </tr>\n",
       "  </tbody>\n",
       "</table>\n",
       "</div>"
      ],
      "text/plain": [
       "  Missed and Delayed Payments (60%) Pre-payments (5%) Periodic Payments (20%)  \\\n",
       "0                            dues=0          if any ✓                constant   \n",
       "1                      0 < dues ≤ 2            none ✕         partly constant   \n",
       "2                      2 < dues ≤ 5                             partly varies   \n",
       "3                          dues > 5                                    varies   \n",
       "\n",
       "   Tax Filings (15%)  Risk Score (1-10)  \n",
       "0        penalty = 0                  1  \n",
       "1  0 < penalties ≤ 1                  4  \n",
       "2  1 < penalties ≤ 2                  7  \n",
       "3      penalties > 2                 10  "
      ]
     },
     "execution_count": 6,
     "metadata": {},
     "output_type": "execute_result"
    }
   ],
   "source": [
    "data2=pd.DataFrame()\n",
    "data2['Missed and Delayed Payments (60%)']=['dues=0','0 < dues ≤ 2','2 < dues ≤ 5','dues > 5']\n",
    "data2['Pre-payments (5%)']=['if any ✓','none ✕','','']\n",
    "data2['Periodic Payments (20%)']=['constant','partly constant','partly varies','varies']\n",
    "data2['Tax Filings (15%)']=['penalty = 0','0 < penalties ≤ 1','1 < penalties ≤ 2','penalties > 2']\n",
    "data2['Risk Score (1-10)']=[1,4,7,10]\n",
    "data2"
   ]
  },
  {
   "cell_type": "code",
   "execution_count": 7,
   "metadata": {},
   "outputs": [
    {
     "name": "stdout",
     "output_type": "stream",
     "text": [
      "Enter the no of dues: 3\n",
      "Any pre-payments so far?  none\n",
      "Enter the status of periodic payments: partly constant\n",
      "Enter the number of penalties in tax filings: 0\n"
     ]
    }
   ],
   "source": [
    "dues=int(input('Enter the no of dues: '))\n",
    "pre_payments=input('Any pre-payments so far?  ')\n",
    "periodic_payment=input('Enter the status of periodic payments: ')\n",
    "tax_filing=int(input('Enter the number of penalties in tax filings: '))"
   ]
  },
  {
   "cell_type": "code",
   "execution_count": 8,
   "metadata": {},
   "outputs": [
    {
     "data": {
      "text/plain": [
       "5.3500000000000005"
      ]
     },
     "execution_count": 8,
     "metadata": {},
     "output_type": "execute_result"
    }
   ],
   "source": [
    "if(dues==0):\n",
    "    var_1=1\n",
    "elif(0<dues and dues<=2):\n",
    "    var_1=4\n",
    "elif(2<dues and dues<=5):\n",
    "    var_1=7\n",
    "else:\n",
    "    var_1=10\n",
    "\n",
    "if(pre_payments=='Yes' or pre_payments=='yes'):\n",
    "    var_2=1\n",
    "else:\n",
    "    var_2=4\n",
    "\n",
    "if(periodic_payment=='constant'):\n",
    "    var_3=1\n",
    "elif(periodic_payment=='partly constant'):\n",
    "    var_3=4\n",
    "elif(periodic_payment=='partly varies'):\n",
    "    var_3=7\n",
    "else:\n",
    "    var_3=10\n",
    "\n",
    "if(tax_filing==0):\n",
    "    var_4=1\n",
    "elif(tax_filing==1):\n",
    "    var_4=4\n",
    "elif(tax_filing==2):\n",
    "    var_4=7\n",
    "else:\n",
    "    var_4=10\n",
    "    \n",
    "w=0.6*var_1 + 0.05*var_2 + 0.2*var_3 + 0.15*var_4\n",
    "w"
   ]
  },
  {
   "cell_type": "markdown",
   "metadata": {},
   "source": [
    "## <span style='font-family:\"Times New Roman\"'>Your Risk Score ↔ Reporting Analysis</span>\n",
    "# <span style='background :lawngreen'><span style='font-family:\"Times New Roman\"'>5.35</span>"
   ]
  },
  {
   "cell_type": "code",
   "execution_count": 12,
   "metadata": {},
   "outputs": [
    {
     "data": {
      "text/html": [
       "<div>\n",
       "<style scoped>\n",
       "    .dataframe tbody tr th:only-of-type {\n",
       "        vertical-align: middle;\n",
       "    }\n",
       "\n",
       "    .dataframe tbody tr th {\n",
       "        vertical-align: top;\n",
       "    }\n",
       "\n",
       "    .dataframe thead th {\n",
       "        text-align: right;\n",
       "    }\n",
       "</style>\n",
       "<table border=\"1\" class=\"dataframe\">\n",
       "  <thead>\n",
       "    <tr style=\"text-align: right;\">\n",
       "      <th></th>\n",
       "      <th>Predictive Analysis Score</th>\n",
       "      <th>Reporting Analysis Score</th>\n",
       "      <th>Total Risk Score</th>\n",
       "    </tr>\n",
       "  </thead>\n",
       "  <tbody>\n",
       "    <tr>\n",
       "      <th>0</th>\n",
       "      <td>2.95</td>\n",
       "      <td>5.35</td>\n",
       "      <td>4.15</td>\n",
       "    </tr>\n",
       "  </tbody>\n",
       "</table>\n",
       "</div>"
      ],
      "text/plain": [
       "   Predictive Analysis Score  Reporting Analysis Score  Total Risk Score\n",
       "0                       2.95                      5.35              4.15"
      ]
     },
     "execution_count": 12,
     "metadata": {},
     "output_type": "execute_result"
    }
   ],
   "source": [
    "data3=pd.DataFrame()\n",
    "data3['Predictive Analysis Score']=[a+c+e]\n",
    "data3['Reporting Analysis Score']=[w]\n",
    "data3['Total Risk Score']=[0.5*(a+c+e+w)]\n",
    "data3"
   ]
  },
  {
   "cell_type": "code",
   "execution_count": 13,
   "metadata": {},
   "outputs": [
    {
     "name": "stdout",
     "output_type": "stream",
     "text": [
      "YELLOW FLAG\n"
     ]
    }
   ],
   "source": [
    "if(1 <= 0.5*(a+c+e+w) < 4):\n",
    "    print('GREEN FLAG')\n",
    "if(4 <= 0.5*(a+c+e+w) < 7):\n",
    "    print('YELLOW FLAG')\n",
    "if(7 <= 0.5*(a+c+e+w) < 10):\n",
    "    print('RED FLAG')"
   ]
  },
  {
   "cell_type": "markdown",
   "metadata": {},
   "source": [
    "# <span style='background :paleturquoise'><span style='font-family:\"Times New Roman\"'>Non-Performing Assets</span>  \n",
    "### <span style='font-family:\"Times New Roman\"'>https://www.sesameindia.com/blog/want-to-reduce-npas-here-are-the-things-to-know/</span>  "
   ]
  },
  {
   "cell_type": "code",
   "execution_count": 14,
   "metadata": {},
   "outputs": [
    {
     "data": {
      "text/html": [
       "<div>\n",
       "<style scoped>\n",
       "    .dataframe tbody tr th:only-of-type {\n",
       "        vertical-align: middle;\n",
       "    }\n",
       "\n",
       "    .dataframe tbody tr th {\n",
       "        vertical-align: top;\n",
       "    }\n",
       "\n",
       "    .dataframe thead th {\n",
       "        text-align: right;\n",
       "    }\n",
       "</style>\n",
       "<table border=\"1\" class=\"dataframe\">\n",
       "  <thead>\n",
       "    <tr style=\"text-align: right;\">\n",
       "      <th></th>\n",
       "      <th>Classification of NPAs</th>\n",
       "      <th>Why NPAs Occur?</th>\n",
       "      <th>Impact of NPAs</th>\n",
       "      <th>Ways to Reduce NPAs</th>\n",
       "    </tr>\n",
       "  </thead>\n",
       "  <tbody>\n",
       "    <tr>\n",
       "      <th>0</th>\n",
       "      <td>Sub-Standard Assets</td>\n",
       "      <td>Bad Lending Practices</td>\n",
       "      <td>Depositors get lower returns on their investme...</td>\n",
       "      <td>SARFAESI ACT, 2002</td>\n",
       "    </tr>\n",
       "    <tr>\n",
       "      <th>1</th>\n",
       "      <td>Doubtful Assets</td>\n",
       "      <td>Competition</td>\n",
       "      <td>Borrowers have to pay a higher rate of interes...</td>\n",
       "      <td>Debt Recovery Tribunals</td>\n",
       "    </tr>\n",
       "    <tr>\n",
       "      <th>2</th>\n",
       "      <td>Loss Assets</td>\n",
       "      <td>Incremental Component</td>\n",
       "      <td>Reputation of the bank’s shareholders is negat...</td>\n",
       "      <td>Lok Adalats</td>\n",
       "    </tr>\n",
       "    <tr>\n",
       "      <th>3</th>\n",
       "      <td></td>\n",
       "      <td>Crisis</td>\n",
       "      <td>Increased failure due to bad investments and r...</td>\n",
       "      <td>Compromise Settlement</td>\n",
       "    </tr>\n",
       "    <tr>\n",
       "      <th>4</th>\n",
       "      <td></td>\n",
       "      <td>Overhang Components</td>\n",
       "      <td>Liquidity of banks is influenced.</td>\n",
       "      <td>Credit Information Bureau</td>\n",
       "    </tr>\n",
       "  </tbody>\n",
       "</table>\n",
       "</div>"
      ],
      "text/plain": [
       "  Classification of NPAs        Why NPAs Occur?  \\\n",
       "0    Sub-Standard Assets  Bad Lending Practices   \n",
       "1        Doubtful Assets            Competition   \n",
       "2            Loss Assets  Incremental Component   \n",
       "3                                        Crisis   \n",
       "4                           Overhang Components   \n",
       "\n",
       "                                      Impact of NPAs  \\\n",
       "0  Depositors get lower returns on their investme...   \n",
       "1  Borrowers have to pay a higher rate of interes...   \n",
       "2  Reputation of the bank’s shareholders is negat...   \n",
       "3  Increased failure due to bad investments and r...   \n",
       "4                  Liquidity of banks is influenced.   \n",
       "\n",
       "         Ways to Reduce NPAs  \n",
       "0         SARFAESI ACT, 2002  \n",
       "1    Debt Recovery Tribunals  \n",
       "2                Lok Adalats  \n",
       "3      Compromise Settlement  \n",
       "4  Credit Information Bureau  "
      ]
     },
     "execution_count": 14,
     "metadata": {},
     "output_type": "execute_result"
    }
   ],
   "source": [
    "data4=pd.DataFrame()\n",
    "data4['Classification of NPAs']=['Sub-Standard Assets','Doubtful Assets','Loss Assets','','']\n",
    "data4['Why NPAs Occur?']=['Bad Lending Practices','Competition','Incremental Component','Crisis','Overhang Components']\n",
    "data4['Impact of NPAs']=['Depositors get lower returns on their investments and may also lose any uninsured deposits.','Borrowers have to pay a higher rate of interests on the loans to compensate bad loans.','Reputation of the bank’s shareholders is negatively affected.','Increased failure due to bad investments and redirection of funds from good to bad projects.','Liquidity of banks is influenced.']\n",
    "data4['Ways to Reduce NPAs']=['SARFAESI ACT, 2002','Debt Recovery Tribunals','Lok Adalats','Compromise Settlement','Credit Information Bureau']\n",
    "data4"
   ]
  },
  {
   "cell_type": "code",
   "execution_count": null,
   "metadata": {},
   "outputs": [],
   "source": []
  },
  {
   "cell_type": "code",
   "execution_count": null,
   "metadata": {},
   "outputs": [],
   "source": []
  },
  {
   "cell_type": "code",
   "execution_count": null,
   "metadata": {},
   "outputs": [],
   "source": []
  }
 ],
 "metadata": {
  "kernelspec": {
   "display_name": "Python 3",
   "language": "python",
   "name": "python3"
  },
  "language_info": {
   "codemirror_mode": {
    "name": "ipython",
    "version": 3
   },
   "file_extension": ".py",
   "mimetype": "text/x-python",
   "name": "python",
   "nbconvert_exporter": "python",
   "pygments_lexer": "ipython3",
   "version": "3.7.3"
  }
 },
 "nbformat": 4,
 "nbformat_minor": 2
}
