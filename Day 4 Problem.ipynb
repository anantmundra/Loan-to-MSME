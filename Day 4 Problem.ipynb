{
 "cells": [
  {
   "cell_type": "markdown",
   "metadata": {},
   "source": [
    "# <span style='background :beige'><span style='font-family:\"Times New Roman\"'>Q4. Who should be the issuer of the loan, for each industry based on credit score?</span> "
   ]
  },
  {
   "cell_type": "markdown",
   "metadata": {},
   "source": [
    "## <span style='background :paleturquoise'><span style='font-family:\"Times New Roman\"'>Importing Necessary Libraries</span> "
   ]
  },
  {
   "cell_type": "code",
   "execution_count": 1,
   "metadata": {},
   "outputs": [],
   "source": [
    "import numpy as np\n",
    "import pandas as pd\n",
    "import matplotlib.pyplot as plt\n",
    "import seaborn as sns\n",
    "sns.set()"
   ]
  },
  {
   "cell_type": "markdown",
   "metadata": {},
   "source": [
    "## <span style='background :palegreen'><span style='font-family:\"blue\"'>Please Enter up your details</span>"
   ]
  },
  {
   "cell_type": "code",
   "execution_count": null,
   "metadata": {},
   "outputs": [],
   "source": [
    "type_enterprise=input('Enter the type of Enterprise: ')\n",
    "type_sector=input('Enter the type of sector: ')\n",
    "current_ratio=float(input('Enter the current ratio of your enterprise: '))\n",
    "debt_ratio=float(input('Enter the debt ratio of your enterprise: '))\n",
    "cash_ratio=float(input('Enter the cash ratio of your enterprise: '))\n",
    "credit_score=0.50*current_ratio + 0.3*debt_ratio + 0.2*cash_ratio\n",
    "print(\"Your Credit Score Ratio: \",credit_score)"
   ]
  },
  {
   "cell_type": "markdown",
   "metadata": {},
   "source": [
    "## <span style='background :paleturquoise'><span style='font-family:\"blue\"'>Bank Lending Rates</span>"
   ]
  },
  {
   "cell_type": "code",
   "execution_count": null,
   "metadata": {},
   "outputs": [],
   "source": [
    "data1=pd.DataFrame()\n",
    "data1['Conditions']=['credit score ratio > 1','1 > credit score ratio > 0.7','0.7 > credit score ratio']\n",
    "data1['Public Sector Banks']=['9.35%','10.35%','11.35%']\n",
    "data1['Private Sector Banks']=['10.81%','11.81%','12.81%']\n",
    "data1['Scheduled Commercial Banks']=['9.88%','10.88%','11.88%']\n",
    "data1"
   ]
  },
  {
   "cell_type": "markdown",
   "metadata": {},
   "source": [
    "### <span style='background :palegreen'><span style='font-family:\"blue\"'>Issuer of Loan:</span>"
   ]
  },
  {
   "cell_type": "code",
   "execution_count": null,
   "metadata": {},
   "outputs": [],
   "source": [
    "if(credit_score>1):\n",
    "    print('Public Sector Banks')\n",
    "if(1>credit_score and credit_score>0.7):\n",
    "    print('Scheduled Commercial Banks')\n",
    "if(0.7>credit_score):\n",
    "    print('Private Sector Banks')"
   ]
  },
  {
   "cell_type": "code",
   "execution_count": null,
   "metadata": {},
   "outputs": [],
   "source": []
  },
  {
   "cell_type": "code",
   "execution_count": null,
   "metadata": {},
   "outputs": [],
   "source": []
  }
 ],
 "metadata": {
  "kernelspec": {
   "display_name": "Python 3",
   "language": "python",
   "name": "python3"
  },
  "language_info": {
   "codemirror_mode": {
    "name": "ipython",
    "version": 3
   },
   "file_extension": ".py",
   "mimetype": "text/x-python",
   "name": "python",
   "nbconvert_exporter": "python",
   "pygments_lexer": "ipython3",
   "version": "3.7.3"
  }
 },
 "nbformat": 4,
 "nbformat_minor": 2
}
