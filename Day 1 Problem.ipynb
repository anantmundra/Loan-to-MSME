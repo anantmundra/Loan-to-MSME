{
 "cells": [
  {
   "cell_type": "markdown",
   "metadata": {},
   "source": [
    "# <span style='background :beige'><span style='font-family:\"Times New Roman\"'>Q1. Determine how much money is needed per unit size of business?</span> "
   ]
  },
  {
   "cell_type": "markdown",
   "metadata": {},
   "source": [
    "## <span style='background :paleturquoise'><span style='font-family:\"Times New Roman\"'>Importing Necessary Libraries</span> "
   ]
  },
  {
   "cell_type": "code",
   "execution_count": 1,
   "metadata": {},
   "outputs": [],
   "source": [
    "import pandas as pd\n",
    "import matplotlib.pyplot as plt\n",
    "import seaborn as sns\n",
    "sns.set()"
   ]
  },
  {
   "cell_type": "markdown",
   "metadata": {},
   "source": [
    "# <span style='background :wheat'><span style='font-family:\"Times New Roman\"'>MSME ↔ Micro Small Medium Enterprise</span> \n",
    "## https://msme.gov.in/sites/default/files/Annualrprt.pdf"
   ]
  },
  {
   "cell_type": "markdown",
   "metadata": {},
   "source": [
    "## <span style='font-family:\"Times New Roman\"'>Estimated Number of MSMEs (Activity Wise)</span>     "
   ]
  },
  {
   "cell_type": "code",
   "execution_count": 2,
   "metadata": {},
   "outputs": [
    {
     "data": {
      "text/html": [
       "<style  type=\"text/css\" >\n",
       "    #T_e3663ac0_cfcc_11ea_88da_30d16bfa037arow0_col1 {\n",
       "            background-color:  #cbfdcb;\n",
       "            color:  #000000;\n",
       "        }    #T_e3663ac0_cfcc_11ea_88da_30d16bfa037arow0_col2 {\n",
       "            background-color:  #d2fdd2;\n",
       "            color:  #000000;\n",
       "        }    #T_e3663ac0_cfcc_11ea_88da_30d16bfa037arow0_col3 {\n",
       "            background-color:  #cefdce;\n",
       "            color:  #000000;\n",
       "        }    #T_e3663ac0_cfcc_11ea_88da_30d16bfa037arow0_col4 {\n",
       "            background-color:  #cefdce;\n",
       "            color:  #000000;\n",
       "        }    #T_e3663ac0_cfcc_11ea_88da_30d16bfa037arow1_col1 {\n",
       "            background-color:  #ccfdcc;\n",
       "            color:  #000000;\n",
       "        }    #T_e3663ac0_cfcc_11ea_88da_30d16bfa037arow1_col2 {\n",
       "            background-color:  #c8fdc8;\n",
       "            color:  #000000;\n",
       "        }    #T_e3663ac0_cfcc_11ea_88da_30d16bfa037arow1_col3 {\n",
       "            background-color:  #cafdca;\n",
       "            color:  #000000;\n",
       "        }    #T_e3663ac0_cfcc_11ea_88da_30d16bfa037arow1_col4 {\n",
       "            background-color:  #cafdca;\n",
       "            color:  #000000;\n",
       "        }    #T_e3663ac0_cfcc_11ea_88da_30d16bfa037arow2_col1 {\n",
       "            background-color:  #cefdce;\n",
       "            color:  #000000;\n",
       "        }    #T_e3663ac0_cfcc_11ea_88da_30d16bfa037arow2_col2 {\n",
       "            background-color:  #ccfdcc;\n",
       "            color:  #000000;\n",
       "        }    #T_e3663ac0_cfcc_11ea_88da_30d16bfa037arow2_col3 {\n",
       "            background-color:  #cdfdcd;\n",
       "            color:  #000000;\n",
       "        }    #T_e3663ac0_cfcc_11ea_88da_30d16bfa037arow2_col4 {\n",
       "            background-color:  #cdfdcd;\n",
       "            color:  #000000;\n",
       "        }    #T_e3663ac0_cfcc_11ea_88da_30d16bfa037arow3_col1 {\n",
       "            background-color:  #e6fee6;\n",
       "            color:  #000000;\n",
       "        }    #T_e3663ac0_cfcc_11ea_88da_30d16bfa037arow3_col2 {\n",
       "            background-color:  #e6fee6;\n",
       "            color:  #000000;\n",
       "        }    #T_e3663ac0_cfcc_11ea_88da_30d16bfa037arow3_col3 {\n",
       "            background-color:  #e6fee6;\n",
       "            color:  #000000;\n",
       "        }    #T_e3663ac0_cfcc_11ea_88da_30d16bfa037arow3_col4 {\n",
       "            background-color:  #e6fee6;\n",
       "            color:  #000000;\n",
       "        }    #T_e3663ac0_cfcc_11ea_88da_30d16bfa037arow4_col1 {\n",
       "            background-color:  #98fb98;\n",
       "            color:  #000000;\n",
       "        }    #T_e3663ac0_cfcc_11ea_88da_30d16bfa037arow4_col2 {\n",
       "            background-color:  #98fb98;\n",
       "            color:  #000000;\n",
       "        }    #T_e3663ac0_cfcc_11ea_88da_30d16bfa037arow4_col3 {\n",
       "            background-color:  #98fb98;\n",
       "            color:  #000000;\n",
       "        }    #T_e3663ac0_cfcc_11ea_88da_30d16bfa037arow4_col4 {\n",
       "            background-color:  #98fb98;\n",
       "            color:  #000000;\n",
       "        }</style><table id=\"T_e3663ac0_cfcc_11ea_88da_30d16bfa037a\" ><thead>    <tr>        <th class=\"blank level0\" ></th>        <th class=\"col_heading level0 col0\" >Activity Category</th>        <th class=\"col_heading level0 col1\" >Rural (in lakh)</th>        <th class=\"col_heading level0 col2\" >Urban (in lakh)</th>        <th class=\"col_heading level0 col3\" >Total (in lakh)</th>        <th class=\"col_heading level0 col4\" >Share(%)</th>    </tr></thead><tbody>\n",
       "                <tr>\n",
       "                        <th id=\"T_e3663ac0_cfcc_11ea_88da_30d16bfa037alevel0_row0\" class=\"row_heading level0 row0\" >0</th>\n",
       "                        <td id=\"T_e3663ac0_cfcc_11ea_88da_30d16bfa037arow0_col0\" class=\"data row0 col0\" >Manufacturing Sector</td>\n",
       "                        <td id=\"T_e3663ac0_cfcc_11ea_88da_30d16bfa037arow0_col1\" class=\"data row0 col1\" >114.14</td>\n",
       "                        <td id=\"T_e3663ac0_cfcc_11ea_88da_30d16bfa037arow0_col2\" class=\"data row0 col2\" >82.5</td>\n",
       "                        <td id=\"T_e3663ac0_cfcc_11ea_88da_30d16bfa037arow0_col3\" class=\"data row0 col3\" >196.65</td>\n",
       "                        <td id=\"T_e3663ac0_cfcc_11ea_88da_30d16bfa037arow0_col4\" class=\"data row0 col4\" >31</td>\n",
       "            </tr>\n",
       "            <tr>\n",
       "                        <th id=\"T_e3663ac0_cfcc_11ea_88da_30d16bfa037alevel0_row1\" class=\"row_heading level0 row1\" >1</th>\n",
       "                        <td id=\"T_e3663ac0_cfcc_11ea_88da_30d16bfa037arow1_col0\" class=\"data row1 col0\" >Trading Sector</td>\n",
       "                        <td id=\"T_e3663ac0_cfcc_11ea_88da_30d16bfa037arow1_col1\" class=\"data row1 col1\" >108.71</td>\n",
       "                        <td id=\"T_e3663ac0_cfcc_11ea_88da_30d16bfa037arow1_col2\" class=\"data row1 col2\" >121.64</td>\n",
       "                        <td id=\"T_e3663ac0_cfcc_11ea_88da_30d16bfa037arow1_col3\" class=\"data row1 col3\" >230.35</td>\n",
       "                        <td id=\"T_e3663ac0_cfcc_11ea_88da_30d16bfa037arow1_col4\" class=\"data row1 col4\" >36</td>\n",
       "            </tr>\n",
       "            <tr>\n",
       "                        <th id=\"T_e3663ac0_cfcc_11ea_88da_30d16bfa037alevel0_row2\" class=\"row_heading level0 row2\" >2</th>\n",
       "                        <td id=\"T_e3663ac0_cfcc_11ea_88da_30d16bfa037arow2_col0\" class=\"data row2 col0\" >Service Sector</td>\n",
       "                        <td id=\"T_e3663ac0_cfcc_11ea_88da_30d16bfa037arow2_col1\" class=\"data row2 col1\" >102</td>\n",
       "                        <td id=\"T_e3663ac0_cfcc_11ea_88da_30d16bfa037arow2_col2\" class=\"data row2 col2\" >104.85</td>\n",
       "                        <td id=\"T_e3663ac0_cfcc_11ea_88da_30d16bfa037arow2_col3\" class=\"data row2 col3\" >206.85</td>\n",
       "                        <td id=\"T_e3663ac0_cfcc_11ea_88da_30d16bfa037arow2_col4\" class=\"data row2 col4\" >33</td>\n",
       "            </tr>\n",
       "            <tr>\n",
       "                        <th id=\"T_e3663ac0_cfcc_11ea_88da_30d16bfa037alevel0_row3\" class=\"row_heading level0 row3\" >3</th>\n",
       "                        <td id=\"T_e3663ac0_cfcc_11ea_88da_30d16bfa037arow3_col0\" class=\"data row3 col0\" >Electricity*</td>\n",
       "                        <td id=\"T_e3663ac0_cfcc_11ea_88da_30d16bfa037arow3_col1\" class=\"data row3 col1\" >0.03</td>\n",
       "                        <td id=\"T_e3663ac0_cfcc_11ea_88da_30d16bfa037arow3_col2\" class=\"data row3 col2\" >0.01</td>\n",
       "                        <td id=\"T_e3663ac0_cfcc_11ea_88da_30d16bfa037arow3_col3\" class=\"data row3 col3\" >0.03</td>\n",
       "                        <td id=\"T_e3663ac0_cfcc_11ea_88da_30d16bfa037arow3_col4\" class=\"data row3 col4\" >0</td>\n",
       "            </tr>\n",
       "            <tr>\n",
       "                        <th id=\"T_e3663ac0_cfcc_11ea_88da_30d16bfa037alevel0_row4\" class=\"row_heading level0 row4\" >4</th>\n",
       "                        <td id=\"T_e3663ac0_cfcc_11ea_88da_30d16bfa037arow4_col0\" class=\"data row4 col0\" >All</td>\n",
       "                        <td id=\"T_e3663ac0_cfcc_11ea_88da_30d16bfa037arow4_col1\" class=\"data row4 col1\" >324.88</td>\n",
       "                        <td id=\"T_e3663ac0_cfcc_11ea_88da_30d16bfa037arow4_col2\" class=\"data row4 col2\" >309</td>\n",
       "                        <td id=\"T_e3663ac0_cfcc_11ea_88da_30d16bfa037arow4_col3\" class=\"data row4 col3\" >633.88</td>\n",
       "                        <td id=\"T_e3663ac0_cfcc_11ea_88da_30d16bfa037arow4_col4\" class=\"data row4 col4\" >100</td>\n",
       "            </tr>\n",
       "    </tbody></table>"
      ],
      "text/plain": [
       "<pandas.io.formats.style.Styler at 0x28f3d49ec88>"
      ]
     },
     "execution_count": 2,
     "metadata": {},
     "output_type": "execute_result"
    }
   ],
   "source": [
    "data1=pd.read_csv(r\"Necessary_Files\\msmecateg.csv\")\n",
    "cm = sns.light_palette(\"palegreen\", as_cmap=True)\n",
    "s = data1.style.background_gradient(cmap=cm)\n",
    "s"
   ]
  },
  {
   "cell_type": "markdown",
   "metadata": {},
   "source": [
    "## <span style='font-family:\"Times New Roman\"'>Distribution of Enterprises (Category Wise)</span>     "
   ]
  },
  {
   "cell_type": "code",
   "execution_count": 3,
   "metadata": {},
   "outputs": [
    {
     "data": {
      "text/html": [
       "<style  type=\"text/css\" >\n",
       "    #T_e37afb42_cfcc_11ea_9ed6_30d16bfa037arow0_col1 {\n",
       "            background-color:  #e2f3fe;\n",
       "            color:  #000000;\n",
       "        }    #T_e37afb42_cfcc_11ea_9ed6_30d16bfa037arow0_col2 {\n",
       "            background-color:  #e7f5fe;\n",
       "            color:  #000000;\n",
       "        }    #T_e37afb42_cfcc_11ea_9ed6_30d16bfa037arow0_col3 {\n",
       "            background-color:  #e7f5fe;\n",
       "            color:  #000000;\n",
       "        }    #T_e37afb42_cfcc_11ea_9ed6_30d16bfa037arow0_col4 {\n",
       "            background-color:  #e2f3fe;\n",
       "            color:  #000000;\n",
       "        }    #T_e37afb42_cfcc_11ea_9ed6_30d16bfa037arow0_col5 {\n",
       "            background-color:  #e3f3fe;\n",
       "            color:  #000000;\n",
       "        }    #T_e37afb42_cfcc_11ea_9ed6_30d16bfa037arow1_col1 {\n",
       "            background-color:  #e7f5fe;\n",
       "            color:  #000000;\n",
       "        }    #T_e37afb42_cfcc_11ea_9ed6_30d16bfa037arow1_col2 {\n",
       "            background-color:  #a4dafb;\n",
       "            color:  #000000;\n",
       "        }    #T_e37afb42_cfcc_11ea_9ed6_30d16bfa037arow1_col3 {\n",
       "            background-color:  #9fd8fb;\n",
       "            color:  #000000;\n",
       "        }    #T_e37afb42_cfcc_11ea_9ed6_30d16bfa037arow1_col4 {\n",
       "            background-color:  #e7f5fe;\n",
       "            color:  #000000;\n",
       "        }    #T_e37afb42_cfcc_11ea_9ed6_30d16bfa037arow1_col5 {\n",
       "            background-color:  #e7f5fe;\n",
       "            color:  #000000;\n",
       "        }    #T_e37afb42_cfcc_11ea_9ed6_30d16bfa037arow2_col1 {\n",
       "            background-color:  #87cefa;\n",
       "            color:  #000000;\n",
       "        }    #T_e37afb42_cfcc_11ea_9ed6_30d16bfa037arow2_col2 {\n",
       "            background-color:  #87cefa;\n",
       "            color:  #000000;\n",
       "        }    #T_e37afb42_cfcc_11ea_9ed6_30d16bfa037arow2_col3 {\n",
       "            background-color:  #87cefa;\n",
       "            color:  #000000;\n",
       "        }    #T_e37afb42_cfcc_11ea_9ed6_30d16bfa037arow2_col4 {\n",
       "            background-color:  #87cefa;\n",
       "            color:  #000000;\n",
       "        }    #T_e37afb42_cfcc_11ea_9ed6_30d16bfa037arow2_col5 {\n",
       "            background-color:  #87cefa;\n",
       "            color:  #000000;\n",
       "        }</style><table id=\"T_e37afb42_cfcc_11ea_9ed6_30d16bfa037a\" ><thead>    <tr>        <th class=\"blank level0\" ></th>        <th class=\"col_heading level0 col0\" >Sector</th>        <th class=\"col_heading level0 col1\" >Micro (in lakh)</th>        <th class=\"col_heading level0 col2\" >Small (in lakh)</th>        <th class=\"col_heading level0 col3\" >Medium (in lakh)</th>        <th class=\"col_heading level0 col4\" >Total (in lakh)</th>        <th class=\"col_heading level0 col5\" >Share(%)</th>    </tr></thead><tbody>\n",
       "                <tr>\n",
       "                        <th id=\"T_e37afb42_cfcc_11ea_9ed6_30d16bfa037alevel0_row0\" class=\"row_heading level0 row0\" >0</th>\n",
       "                        <td id=\"T_e37afb42_cfcc_11ea_9ed6_30d16bfa037arow0_col0\" class=\"data row0 col0\" >Rural</td>\n",
       "                        <td id=\"T_e37afb42_cfcc_11ea_9ed6_30d16bfa037arow0_col1\" class=\"data row0 col1\" >324.09</td>\n",
       "                        <td id=\"T_e37afb42_cfcc_11ea_9ed6_30d16bfa037arow0_col2\" class=\"data row0 col2\" >0.78</td>\n",
       "                        <td id=\"T_e37afb42_cfcc_11ea_9ed6_30d16bfa037arow0_col3\" class=\"data row0 col3\" >0.01</td>\n",
       "                        <td id=\"T_e37afb42_cfcc_11ea_9ed6_30d16bfa037arow0_col4\" class=\"data row0 col4\" >324.88</td>\n",
       "                        <td id=\"T_e37afb42_cfcc_11ea_9ed6_30d16bfa037arow0_col5\" class=\"data row0 col5\" >51</td>\n",
       "            </tr>\n",
       "            <tr>\n",
       "                        <th id=\"T_e37afb42_cfcc_11ea_9ed6_30d16bfa037alevel0_row1\" class=\"row_heading level0 row1\" >1</th>\n",
       "                        <td id=\"T_e37afb42_cfcc_11ea_9ed6_30d16bfa037arow1_col0\" class=\"data row1 col0\" >Urban</td>\n",
       "                        <td id=\"T_e37afb42_cfcc_11ea_9ed6_30d16bfa037arow1_col1\" class=\"data row1 col1\" >306.43</td>\n",
       "                        <td id=\"T_e37afb42_cfcc_11ea_9ed6_30d16bfa037arow1_col2\" class=\"data row1 col2\" >2.53</td>\n",
       "                        <td id=\"T_e37afb42_cfcc_11ea_9ed6_30d16bfa037arow1_col3\" class=\"data row1 col3\" >0.04</td>\n",
       "                        <td id=\"T_e37afb42_cfcc_11ea_9ed6_30d16bfa037arow1_col4\" class=\"data row1 col4\" >309</td>\n",
       "                        <td id=\"T_e37afb42_cfcc_11ea_9ed6_30d16bfa037arow1_col5\" class=\"data row1 col5\" >49</td>\n",
       "            </tr>\n",
       "            <tr>\n",
       "                        <th id=\"T_e37afb42_cfcc_11ea_9ed6_30d16bfa037alevel0_row2\" class=\"row_heading level0 row2\" >2</th>\n",
       "                        <td id=\"T_e37afb42_cfcc_11ea_9ed6_30d16bfa037arow2_col0\" class=\"data row2 col0\" >All</td>\n",
       "                        <td id=\"T_e37afb42_cfcc_11ea_9ed6_30d16bfa037arow2_col1\" class=\"data row2 col1\" >630.52</td>\n",
       "                        <td id=\"T_e37afb42_cfcc_11ea_9ed6_30d16bfa037arow2_col2\" class=\"data row2 col2\" >3.31</td>\n",
       "                        <td id=\"T_e37afb42_cfcc_11ea_9ed6_30d16bfa037arow2_col3\" class=\"data row2 col3\" >0.05</td>\n",
       "                        <td id=\"T_e37afb42_cfcc_11ea_9ed6_30d16bfa037arow2_col4\" class=\"data row2 col4\" >633.88</td>\n",
       "                        <td id=\"T_e37afb42_cfcc_11ea_9ed6_30d16bfa037arow2_col5\" class=\"data row2 col5\" >100</td>\n",
       "            </tr>\n",
       "    </tbody></table>"
      ],
      "text/plain": [
       "<pandas.io.formats.style.Styler at 0x28f3e8e0160>"
      ]
     },
     "execution_count": 3,
     "metadata": {},
     "output_type": "execute_result"
    }
   ],
   "source": [
    "data2=pd.read_csv(r\"Necessary_Files\\msmedist.csv\")\n",
    "cm = sns.light_palette(\"lightskyblue\", as_cmap=True)\n",
    "s1 = data2.style.background_gradient(cmap=cm)\n",
    "s1"
   ]
  },
  {
   "cell_type": "markdown",
   "metadata": {},
   "source": [
    "## <span style='font-family:\"Times New Roman\"'> Distribution of Employment in Rural and Urban Areas</span>     "
   ]
  },
  {
   "cell_type": "code",
   "execution_count": 4,
   "metadata": {},
   "outputs": [
    {
     "data": {
      "text/html": [
       "<style  type=\"text/css\" >\n",
       "    #T_e3970eb6_cfcc_11ea_a3ea_30d16bfa037arow0_col1 {\n",
       "            background-color:  #fcfae8;\n",
       "            color:  #000000;\n",
       "        }    #T_e3970eb6_cfcc_11ea_a3ea_30d16bfa037arow0_col2 {\n",
       "            background-color:  #fcfae8;\n",
       "            color:  #000000;\n",
       "        }    #T_e3970eb6_cfcc_11ea_a3ea_30d16bfa037arow0_col3 {\n",
       "            background-color:  #fcfae8;\n",
       "            color:  #000000;\n",
       "        }    #T_e3970eb6_cfcc_11ea_a3ea_30d16bfa037arow0_col4 {\n",
       "            background-color:  #fcfae8;\n",
       "            color:  #000000;\n",
       "        }    #T_e3970eb6_cfcc_11ea_a3ea_30d16bfa037arow0_col5 {\n",
       "            background-color:  #fcfae8;\n",
       "            color:  #000000;\n",
       "        }    #T_e3970eb6_cfcc_11ea_a3ea_30d16bfa037arow1_col1 {\n",
       "            background-color:  #faf7d9;\n",
       "            color:  #000000;\n",
       "        }    #T_e3970eb6_cfcc_11ea_a3ea_30d16bfa037arow1_col2 {\n",
       "            background-color:  #f4edaa;\n",
       "            color:  #000000;\n",
       "        }    #T_e3970eb6_cfcc_11ea_a3ea_30d16bfa037arow1_col3 {\n",
       "            background-color:  #f6f0bb;\n",
       "            color:  #000000;\n",
       "        }    #T_e3970eb6_cfcc_11ea_a3ea_30d16bfa037arow1_col4 {\n",
       "            background-color:  #faf6d7;\n",
       "            color:  #000000;\n",
       "        }    #T_e3970eb6_cfcc_11ea_a3ea_30d16bfa037arow1_col5 {\n",
       "            background-color:  #faf6d8;\n",
       "            color:  #000000;\n",
       "        }    #T_e3970eb6_cfcc_11ea_a3ea_30d16bfa037arow2_col1 {\n",
       "            background-color:  #f0e68c;\n",
       "            color:  #000000;\n",
       "        }    #T_e3970eb6_cfcc_11ea_a3ea_30d16bfa037arow2_col2 {\n",
       "            background-color:  #f0e68c;\n",
       "            color:  #000000;\n",
       "        }    #T_e3970eb6_cfcc_11ea_a3ea_30d16bfa037arow2_col3 {\n",
       "            background-color:  #f0e68c;\n",
       "            color:  #000000;\n",
       "        }    #T_e3970eb6_cfcc_11ea_a3ea_30d16bfa037arow2_col4 {\n",
       "            background-color:  #f0e68c;\n",
       "            color:  #000000;\n",
       "        }    #T_e3970eb6_cfcc_11ea_a3ea_30d16bfa037arow2_col5 {\n",
       "            background-color:  #f0e68c;\n",
       "            color:  #000000;\n",
       "        }</style><table id=\"T_e3970eb6_cfcc_11ea_a3ea_30d16bfa037a\" ><thead>    <tr>        <th class=\"blank level0\" ></th>        <th class=\"col_heading level0 col0\" >Sector</th>        <th class=\"col_heading level0 col1\" >Micro (in lakh)</th>        <th class=\"col_heading level0 col2\" >Small (in lakh)</th>        <th class=\"col_heading level0 col3\" >Medium (in lakh)</th>        <th class=\"col_heading level0 col4\" >Total (in lakh)</th>        <th class=\"col_heading level0 col5\" >Share(%)</th>    </tr></thead><tbody>\n",
       "                <tr>\n",
       "                        <th id=\"T_e3970eb6_cfcc_11ea_a3ea_30d16bfa037alevel0_row0\" class=\"row_heading level0 row0\" >0</th>\n",
       "                        <td id=\"T_e3970eb6_cfcc_11ea_a3ea_30d16bfa037arow0_col0\" class=\"data row0 col0\" >Rural</td>\n",
       "                        <td id=\"T_e3970eb6_cfcc_11ea_a3ea_30d16bfa037arow0_col1\" class=\"data row0 col1\" >489.3</td>\n",
       "                        <td id=\"T_e3970eb6_cfcc_11ea_a3ea_30d16bfa037arow0_col2\" class=\"data row0 col2\" >7.88</td>\n",
       "                        <td id=\"T_e3970eb6_cfcc_11ea_a3ea_30d16bfa037arow0_col3\" class=\"data row0 col3\" >0.6</td>\n",
       "                        <td id=\"T_e3970eb6_cfcc_11ea_a3ea_30d16bfa037arow0_col4\" class=\"data row0 col4\" >497.78</td>\n",
       "                        <td id=\"T_e3970eb6_cfcc_11ea_a3ea_30d16bfa037arow0_col5\" class=\"data row0 col5\" >45</td>\n",
       "            </tr>\n",
       "            <tr>\n",
       "                        <th id=\"T_e3970eb6_cfcc_11ea_a3ea_30d16bfa037alevel0_row1\" class=\"row_heading level0 row1\" >1</th>\n",
       "                        <td id=\"T_e3970eb6_cfcc_11ea_a3ea_30d16bfa037arow1_col0\" class=\"data row1 col0\" >Urban</td>\n",
       "                        <td id=\"T_e3970eb6_cfcc_11ea_a3ea_30d16bfa037arow1_col1\" class=\"data row1 col1\" >586.88</td>\n",
       "                        <td id=\"T_e3970eb6_cfcc_11ea_a3ea_30d16bfa037arow1_col2\" class=\"data row1 col2\" >24.06</td>\n",
       "                        <td id=\"T_e3970eb6_cfcc_11ea_a3ea_30d16bfa037arow1_col3\" class=\"data row1 col3\" >1.16</td>\n",
       "                        <td id=\"T_e3970eb6_cfcc_11ea_a3ea_30d16bfa037arow1_col4\" class=\"data row1 col4\" >612.1</td>\n",
       "                        <td id=\"T_e3970eb6_cfcc_11ea_a3ea_30d16bfa037arow1_col5\" class=\"data row1 col5\" >55</td>\n",
       "            </tr>\n",
       "            <tr>\n",
       "                        <th id=\"T_e3970eb6_cfcc_11ea_a3ea_30d16bfa037alevel0_row2\" class=\"row_heading level0 row2\" >2</th>\n",
       "                        <td id=\"T_e3970eb6_cfcc_11ea_a3ea_30d16bfa037arow2_col0\" class=\"data row2 col0\" >All</td>\n",
       "                        <td id=\"T_e3970eb6_cfcc_11ea_a3ea_30d16bfa037arow2_col1\" class=\"data row2 col1\" >1076.19</td>\n",
       "                        <td id=\"T_e3970eb6_cfcc_11ea_a3ea_30d16bfa037arow2_col2\" class=\"data row2 col2\" >31.95</td>\n",
       "                        <td id=\"T_e3970eb6_cfcc_11ea_a3ea_30d16bfa037arow2_col3\" class=\"data row2 col3\" >1.75</td>\n",
       "                        <td id=\"T_e3970eb6_cfcc_11ea_a3ea_30d16bfa037arow2_col4\" class=\"data row2 col4\" >1109.89</td>\n",
       "                        <td id=\"T_e3970eb6_cfcc_11ea_a3ea_30d16bfa037arow2_col5\" class=\"data row2 col5\" >100</td>\n",
       "            </tr>\n",
       "    </tbody></table>"
      ],
      "text/plain": [
       "<pandas.io.formats.style.Styler at 0x28f3e8e0668>"
      ]
     },
     "execution_count": 4,
     "metadata": {},
     "output_type": "execute_result"
    }
   ],
   "source": [
    "data3=pd.read_csv((r\"Necessary_Files\\msmeemploy.csv\"))\n",
    "cm = sns.light_palette(\"khaki\", as_cmap=True)\n",
    "s2 = data3.style.background_gradient(cmap=cm)\n",
    "s2"
   ]
  },
  {
   "cell_type": "markdown",
   "metadata": {},
   "source": [
    "## <span style='font-family:\"Times New Roman\"'>Key Statistics on MSMEs</span>     "
   ]
  },
  {
   "cell_type": "code",
   "execution_count": 5,
   "metadata": {},
   "outputs": [
    {
     "data": {
      "text/html": [
       "<div>\n",
       "<style scoped>\n",
       "    .dataframe tbody tr th:only-of-type {\n",
       "        vertical-align: middle;\n",
       "    }\n",
       "\n",
       "    .dataframe tbody tr th {\n",
       "        vertical-align: top;\n",
       "    }\n",
       "\n",
       "    .dataframe thead th {\n",
       "        text-align: right;\n",
       "    }\n",
       "</style>\n",
       "<table border=\"1\" class=\"dataframe\">\n",
       "  <thead>\n",
       "    <tr style=\"text-align: right;\">\n",
       "      <th></th>\n",
       "      <th>Key Metric</th>\n",
       "      <th>Manufacturing</th>\n",
       "      <th>Services</th>\n",
       "      <th>Trading</th>\n",
       "    </tr>\n",
       "  </thead>\n",
       "  <tbody>\n",
       "    <tr>\n",
       "      <th>0</th>\n",
       "      <td>Total number of working MSME</td>\n",
       "      <td>196.65 lakh</td>\n",
       "      <td>206.85 lakh</td>\n",
       "      <td>230.35 lakh</td>\n",
       "    </tr>\n",
       "    <tr>\n",
       "      <th>1</th>\n",
       "      <td>Total employement</td>\n",
       "      <td>360.41 lakh</td>\n",
       "      <td>362.22 lakh</td>\n",
       "      <td>387.18 lakh</td>\n",
       "    </tr>\n",
       "    <tr>\n",
       "      <th>2</th>\n",
       "      <td>MSME contribution to GDP</td>\n",
       "      <td>6.11%</td>\n",
       "      <td>24.63%</td>\n",
       "      <td>6.26%</td>\n",
       "    </tr>\n",
       "  </tbody>\n",
       "</table>\n",
       "</div>"
      ],
      "text/plain": [
       "                     Key Metric Manufacturing     Services      Trading\n",
       "0  Total number of working MSME   196.65 lakh  206.85 lakh  230.35 lakh\n",
       "1             Total employement   360.41 lakh  362.22 lakh  387.18 lakh\n",
       "2      MSME contribution to GDP         6.11%       24.63%        6.26%"
      ]
     },
     "execution_count": 5,
     "metadata": {},
     "output_type": "execute_result"
    }
   ],
   "source": [
    "data4=pd.DataFrame()\n",
    "data4['Key Metric']=['Total number of working MSME','Total employement','MSME contribution to GDP']\n",
    "data4['Manufacturing']=['196.65 lakh','360.41 lakh','6.11%']\n",
    "data4['Services']=['206.85 lakh','362.22 lakh','24.63%']\n",
    "data4['Trading']=['230.35 lakh','387.18 lakh','6.26%']\n",
    "data4"
   ]
  },
  {
   "cell_type": "markdown",
   "metadata": {},
   "source": [
    "## <span style='font-family:\"Times New Roman\"'>According to the census, the average turnover of micro-units is Rs 0.21 crore, Rs 4.19 crore for small businesses, and Rs 25.24 crore for medium enterprises.</span>     "
   ]
  },
  {
   "cell_type": "markdown",
   "metadata": {},
   "source": [
    "## <span style='background :palegreen'><span style='font-family:\"Times New Roman\"'>Micro Enterprises</span>     "
   ]
  },
  {
   "cell_type": "code",
   "execution_count": 6,
   "metadata": {},
   "outputs": [
    {
     "data": {
      "text/html": [
       "<div>\n",
       "<style scoped>\n",
       "    .dataframe tbody tr th:only-of-type {\n",
       "        vertical-align: middle;\n",
       "    }\n",
       "\n",
       "    .dataframe tbody tr th {\n",
       "        vertical-align: top;\n",
       "    }\n",
       "\n",
       "    .dataframe thead th {\n",
       "        text-align: right;\n",
       "    }\n",
       "</style>\n",
       "<table border=\"1\" class=\"dataframe\">\n",
       "  <thead>\n",
       "    <tr style=\"text-align: right;\">\n",
       "      <th></th>\n",
       "      <th>Operating Cost Factors</th>\n",
       "      <th>Total Count</th>\n",
       "      <th>Value</th>\n",
       "    </tr>\n",
       "  </thead>\n",
       "  <tbody>\n",
       "    <tr>\n",
       "      <th>0</th>\n",
       "      <td>Staff Salary</td>\n",
       "      <td>1076.19 employee</td>\n",
       "      <td>12000</td>\n",
       "    </tr>\n",
       "    <tr>\n",
       "      <th>1</th>\n",
       "      <td>Utility Cost (Electricity)</td>\n",
       "      <td>1250 kWh per month</td>\n",
       "      <td>1250 x 8.33</td>\n",
       "    </tr>\n",
       "    <tr>\n",
       "      <th>2</th>\n",
       "      <td>Statutory Cost</td>\n",
       "      <td>Average Revenue ↔ 21 lakhs</td>\n",
       "      <td>Tax ↔ 5.25 lakhs</td>\n",
       "    </tr>\n",
       "    <tr>\n",
       "      <th>3</th>\n",
       "      <td>Other expenses</td>\n",
       "      <td>Phone Bills/Maintenance/Transport</td>\n",
       "      <td>15000</td>\n",
       "    </tr>\n",
       "  </tbody>\n",
       "</table>\n",
       "</div>"
      ],
      "text/plain": [
       "       Operating Cost Factors                        Total Count  \\\n",
       "0                Staff Salary                   1076.19 employee   \n",
       "1  Utility Cost (Electricity)                 1250 kWh per month   \n",
       "2              Statutory Cost         Average Revenue ↔ 21 lakhs   \n",
       "3              Other expenses  Phone Bills/Maintenance/Transport   \n",
       "\n",
       "              Value  \n",
       "0             12000  \n",
       "1       1250 x 8.33  \n",
       "2  Tax ↔ 5.25 lakhs  \n",
       "3             15000  "
      ]
     },
     "execution_count": 6,
     "metadata": {},
     "output_type": "execute_result"
    }
   ],
   "source": [
    "data5=pd.DataFrame()\n",
    "data5['Operating Cost Factors']=['Staff Salary','Utility Cost (Electricity)','Statutory Cost','Other expenses']\n",
    "data5['Total Count']=['1076.19 employee','1250 kWh per month','Average Revenue ↔ 21 lakhs','Phone Bills/Maintenance/Transport']\n",
    "data5['Value']=[12000,'1250 x 8.33','Tax ↔ 5.25 lakhs',15000]\n",
    "data5"
   ]
  },
  {
   "cell_type": "code",
   "execution_count": 7,
   "metadata": {},
   "outputs": [
    {
     "data": {
      "text/plain": [
       "2.893737475"
      ]
     },
     "execution_count": 7,
     "metadata": {},
     "output_type": "execute_result"
    }
   ],
   "source": [
    "(1076.19*12000 + 1250*8.33*630.52 + 5.25 + 15000*630.52)/(10**7)"
   ]
  },
  {
   "cell_type": "markdown",
   "metadata": {},
   "source": [
    "## <span style='background :palegreen'><span style='font-family:\"Times New Roman\"'>Small Enterprises</span>     "
   ]
  },
  {
   "cell_type": "code",
   "execution_count": 8,
   "metadata": {},
   "outputs": [
    {
     "data": {
      "text/html": [
       "<div>\n",
       "<style scoped>\n",
       "    .dataframe tbody tr th:only-of-type {\n",
       "        vertical-align: middle;\n",
       "    }\n",
       "\n",
       "    .dataframe tbody tr th {\n",
       "        vertical-align: top;\n",
       "    }\n",
       "\n",
       "    .dataframe thead th {\n",
       "        text-align: right;\n",
       "    }\n",
       "</style>\n",
       "<table border=\"1\" class=\"dataframe\">\n",
       "  <thead>\n",
       "    <tr style=\"text-align: right;\">\n",
       "      <th></th>\n",
       "      <th>Operating Cost Factors</th>\n",
       "      <th>Total Count</th>\n",
       "      <th>Value</th>\n",
       "    </tr>\n",
       "  </thead>\n",
       "  <tbody>\n",
       "    <tr>\n",
       "      <th>0</th>\n",
       "      <td>Staff Salary</td>\n",
       "      <td>31.95 lakhs employee</td>\n",
       "      <td>18000</td>\n",
       "    </tr>\n",
       "    <tr>\n",
       "      <th>1</th>\n",
       "      <td>Utility Cost (Electricity)</td>\n",
       "      <td>2084 kWh per month</td>\n",
       "      <td>2084 x 8.33</td>\n",
       "    </tr>\n",
       "    <tr>\n",
       "      <th>2</th>\n",
       "      <td>Statutory Cost</td>\n",
       "      <td>Average Revenue ↔ 419 lakhs</td>\n",
       "      <td>Tax ↔ 104.75 lakhs</td>\n",
       "    </tr>\n",
       "    <tr>\n",
       "      <th>3</th>\n",
       "      <td>Other expenses</td>\n",
       "      <td>Phone Bills/Maintenance/Transport</td>\n",
       "      <td>50000</td>\n",
       "    </tr>\n",
       "  </tbody>\n",
       "</table>\n",
       "</div>"
      ],
      "text/plain": [
       "       Operating Cost Factors                        Total Count  \\\n",
       "0                Staff Salary               31.95 lakhs employee   \n",
       "1  Utility Cost (Electricity)                 2084 kWh per month   \n",
       "2              Statutory Cost        Average Revenue ↔ 419 lakhs   \n",
       "3              Other expenses  Phone Bills/Maintenance/Transport   \n",
       "\n",
       "                Value  \n",
       "0               18000  \n",
       "1         2084 x 8.33  \n",
       "2  Tax ↔ 104.75 lakhs  \n",
       "3               50000  "
      ]
     },
     "execution_count": 8,
     "metadata": {},
     "output_type": "execute_result"
    }
   ],
   "source": [
    "data6=pd.DataFrame()\n",
    "data6['Operating Cost Factors']=['Staff Salary','Utility Cost (Electricity)','Statutory Cost','Other expenses']\n",
    "data6['Total Count']=['31.95 lakhs employee','2084 kWh per month','Average Revenue ↔ 419 lakhs','Phone Bills/Maintenance/Transport']\n",
    "data6['Value']=[18000,'2084 x 8.33','Tax ↔ 104.75 lakhs',50000]\n",
    "data6"
   ]
  },
  {
   "cell_type": "code",
   "execution_count": 9,
   "metadata": {},
   "outputs": [
    {
     "data": {
      "text/plain": [
       "0.07650654232"
      ]
     },
     "execution_count": 9,
     "metadata": {},
     "output_type": "execute_result"
    }
   ],
   "source": [
    "(31.95*18000 + 2084*8.33*3.31 + 104.75 + 40000*3.31)/(10**7)"
   ]
  },
  {
   "cell_type": "markdown",
   "metadata": {},
   "source": [
    "## <span style='background :palegreen'><span style='font-family:\"Times New Roman\"'>Medium Enterprises</span>     "
   ]
  },
  {
   "cell_type": "code",
   "execution_count": 10,
   "metadata": {},
   "outputs": [
    {
     "data": {
      "text/html": [
       "<div>\n",
       "<style scoped>\n",
       "    .dataframe tbody tr th:only-of-type {\n",
       "        vertical-align: middle;\n",
       "    }\n",
       "\n",
       "    .dataframe tbody tr th {\n",
       "        vertical-align: top;\n",
       "    }\n",
       "\n",
       "    .dataframe thead th {\n",
       "        text-align: right;\n",
       "    }\n",
       "</style>\n",
       "<table border=\"1\" class=\"dataframe\">\n",
       "  <thead>\n",
       "    <tr style=\"text-align: right;\">\n",
       "      <th></th>\n",
       "      <th>Operating Cost Factors</th>\n",
       "      <th>Total Count</th>\n",
       "      <th>Value</th>\n",
       "    </tr>\n",
       "  </thead>\n",
       "  <tbody>\n",
       "    <tr>\n",
       "      <th>0</th>\n",
       "      <td>Staff Salary</td>\n",
       "      <td>1.75 lakhs employee</td>\n",
       "      <td>30000</td>\n",
       "    </tr>\n",
       "    <tr>\n",
       "      <th>1</th>\n",
       "      <td>Utility Cost (Electricity)</td>\n",
       "      <td>4167 kWh per month</td>\n",
       "      <td>4167 x 8.33</td>\n",
       "    </tr>\n",
       "    <tr>\n",
       "      <th>2</th>\n",
       "      <td>Statutory Cost</td>\n",
       "      <td>Average Revenue ↔ 2524 lakhs</td>\n",
       "      <td>Tax ↔ 757.2 lakhs</td>\n",
       "    </tr>\n",
       "    <tr>\n",
       "      <th>3</th>\n",
       "      <td>Other expenses</td>\n",
       "      <td>Phone Bills/Maintenance/Transport</td>\n",
       "      <td>150000</td>\n",
       "    </tr>\n",
       "  </tbody>\n",
       "</table>\n",
       "</div>"
      ],
      "text/plain": [
       "       Operating Cost Factors                        Total Count  \\\n",
       "0                Staff Salary                1.75 lakhs employee   \n",
       "1  Utility Cost (Electricity)                 4167 kWh per month   \n",
       "2              Statutory Cost       Average Revenue ↔ 2524 lakhs   \n",
       "3              Other expenses  Phone Bills/Maintenance/Transport   \n",
       "\n",
       "               Value  \n",
       "0              30000  \n",
       "1        4167 x 8.33  \n",
       "2  Tax ↔ 757.2 lakhs  \n",
       "3             150000  "
      ]
     },
     "execution_count": 10,
     "metadata": {},
     "output_type": "execute_result"
    }
   ],
   "source": [
    "data7=pd.DataFrame()\n",
    "data7['Operating Cost Factors']=['Staff Salary','Utility Cost (Electricity)','Statutory Cost','Other expenses']\n",
    "data7['Total Count']=['1.75 lakhs employee','4167 kWh per month','Average Revenue ↔ 2524 lakhs','Phone Bills/Maintenance/Transport']\n",
    "data7['Value']=[30000,'4167 x 8.33','Tax ↔ 757.2 lakhs',150000]\n",
    "data7"
   ]
  },
  {
   "cell_type": "code",
   "execution_count": 11,
   "metadata": {},
   "outputs": [
    {
     "data": {
      "text/plain": [
       "0.00624927555"
      ]
     },
     "execution_count": 11,
     "metadata": {},
     "output_type": "execute_result"
    }
   ],
   "source": [
    "(1.75*30000 + 4167*8.33*0.05 + 757.2 +150000*0.05)/(10**7)"
   ]
  },
  {
   "cell_type": "markdown",
   "metadata": {},
   "source": [
    "# <span style='background :wheat'><span style='font-family:\"Times New Roman\"'>Operating Costs ↔ MSME Enterprises </span>"
   ]
  },
  {
   "cell_type": "code",
   "execution_count": 12,
   "metadata": {},
   "outputs": [
    {
     "data": {
      "text/html": [
       "<style  type=\"text/css\" >\n",
       "    #T_e466905a_cfcc_11ea_98df_30d16bfa037arow0_col1 {\n",
       "            background-color:  #eee8aa;\n",
       "            color:  #000000;\n",
       "        }    #T_e466905a_cfcc_11ea_98df_30d16bfa037arow1_col1 {\n",
       "            background-color:  #faf9e8;\n",
       "            color:  #000000;\n",
       "        }    #T_e466905a_cfcc_11ea_98df_30d16bfa037arow2_col1 {\n",
       "            background-color:  #fbf9ea;\n",
       "            color:  #000000;\n",
       "        }</style><table id=\"T_e466905a_cfcc_11ea_98df_30d16bfa037a\" ><thead>    <tr>        <th class=\"blank level0\" ></th>        <th class=\"col_heading level0 col0\" >MSME Enterprise</th>        <th class=\"col_heading level0 col1\" >Per Month Operating Cost (lakh-crore)</th>    </tr></thead><tbody>\n",
       "                <tr>\n",
       "                        <th id=\"T_e466905a_cfcc_11ea_98df_30d16bfa037alevel0_row0\" class=\"row_heading level0 row0\" >0</th>\n",
       "                        <td id=\"T_e466905a_cfcc_11ea_98df_30d16bfa037arow0_col0\" class=\"data row0 col0\" >Micro</td>\n",
       "                        <td id=\"T_e466905a_cfcc_11ea_98df_30d16bfa037arow0_col1\" class=\"data row0 col1\" >2.8937</td>\n",
       "            </tr>\n",
       "            <tr>\n",
       "                        <th id=\"T_e466905a_cfcc_11ea_98df_30d16bfa037alevel0_row1\" class=\"row_heading level0 row1\" >1</th>\n",
       "                        <td id=\"T_e466905a_cfcc_11ea_98df_30d16bfa037arow1_col0\" class=\"data row1 col0\" >Small</td>\n",
       "                        <td id=\"T_e466905a_cfcc_11ea_98df_30d16bfa037arow1_col1\" class=\"data row1 col1\" >0.0765</td>\n",
       "            </tr>\n",
       "            <tr>\n",
       "                        <th id=\"T_e466905a_cfcc_11ea_98df_30d16bfa037alevel0_row2\" class=\"row_heading level0 row2\" >2</th>\n",
       "                        <td id=\"T_e466905a_cfcc_11ea_98df_30d16bfa037arow2_col0\" class=\"data row2 col0\" >Medium</td>\n",
       "                        <td id=\"T_e466905a_cfcc_11ea_98df_30d16bfa037arow2_col1\" class=\"data row2 col1\" >0.0062</td>\n",
       "            </tr>\n",
       "    </tbody></table>"
      ],
      "text/plain": [
       "<pandas.io.formats.style.Styler at 0x28f3e96f6a0>"
      ]
     },
     "execution_count": 12,
     "metadata": {},
     "output_type": "execute_result"
    }
   ],
   "source": [
    "data8=pd.DataFrame()\n",
    "data8['MSME Enterprise']=['Micro','Small','Medium']\n",
    "data8['Per Month Operating Cost (lakh-crore)']=[2.8937,0.0765,0.0062]\n",
    "cm = sns.light_palette(\"palegoldenrod\", as_cmap=True)\n",
    "s3 = data8.style.background_gradient(cmap=cm)\n",
    "s3"
   ]
  },
  {
   "cell_type": "code",
   "execution_count": 13,
   "metadata": {},
   "outputs": [
    {
     "data": {
      "text/plain": [
       "2.9764"
      ]
     },
     "execution_count": 13,
     "metadata": {},
     "output_type": "execute_result"
    }
   ],
   "source": [
    "data8['Per Month Operating Cost (lakh-crore)'].sum()"
   ]
  },
  {
   "cell_type": "code",
   "execution_count": null,
   "metadata": {},
   "outputs": [],
   "source": []
  }
 ],
 "metadata": {
  "kernelspec": {
   "display_name": "Python 3",
   "language": "python",
   "name": "python3"
  },
  "language_info": {
   "codemirror_mode": {
    "name": "ipython",
    "version": 3
   },
   "file_extension": ".py",
   "mimetype": "text/x-python",
   "name": "python",
   "nbconvert_exporter": "python",
   "pygments_lexer": "ipython3",
   "version": "3.7.3"
  }
 },
 "nbformat": 4,
 "nbformat_minor": 2
}
