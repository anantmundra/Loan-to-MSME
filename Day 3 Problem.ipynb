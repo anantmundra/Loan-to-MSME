{
 "cells": [
  {
   "cell_type": "markdown",
   "metadata": {},
   "source": [
    "# <span style='background :beige'><span style='font-family:\"Times New Roman\"'>Q3. Determine the eligibility and the amount.</span> "
   ]
  },
  {
   "cell_type": "markdown",
   "metadata": {},
   "source": [
    "## <span style='background :paleturquoise'><span style='font-family:\"Times New Roman\"'>Importing Necessary Libraries</span> "
   ]
  },
  {
   "cell_type": "code",
   "execution_count": 1,
   "metadata": {},
   "outputs": [],
   "source": [
    "import numpy as np\n",
    "import pandas as pd\n",
    "import matplotlib.pyplot as plt\n",
    "import seaborn as sns\n",
    "sns.set()"
   ]
  },
  {
   "cell_type": "markdown",
   "metadata": {},
   "source": [
    "## <span style='background :lemonchiffon'> <span style='font-family:\"Times New Roman\"'>In terms of Reliability</span>"
   ]
  },
  {
   "cell_type": "code",
   "execution_count": 2,
   "metadata": {},
   "outputs": [
    {
     "data": {
      "text/html": [
       "<div>\n",
       "<style scoped>\n",
       "    .dataframe tbody tr th:only-of-type {\n",
       "        vertical-align: middle;\n",
       "    }\n",
       "\n",
       "    .dataframe tbody tr th {\n",
       "        vertical-align: top;\n",
       "    }\n",
       "\n",
       "    .dataframe thead th {\n",
       "        text-align: right;\n",
       "    }\n",
       "</style>\n",
       "<table border=\"1\" class=\"dataframe\">\n",
       "  <thead>\n",
       "    <tr style=\"text-align: right;\">\n",
       "      <th></th>\n",
       "      <th>Category</th>\n",
       "      <th>Micro Enterprise</th>\n",
       "      <th>Small Enterprise</th>\n",
       "      <th>Medium Enterprise</th>\n",
       "    </tr>\n",
       "  </thead>\n",
       "  <tbody>\n",
       "    <tr>\n",
       "      <th>0</th>\n",
       "      <td>Manufacturing</td>\n",
       "      <td>6</td>\n",
       "      <td>5</td>\n",
       "      <td>4</td>\n",
       "    </tr>\n",
       "    <tr>\n",
       "      <th>1</th>\n",
       "      <td>Services</td>\n",
       "      <td>1</td>\n",
       "      <td>2</td>\n",
       "      <td>3</td>\n",
       "    </tr>\n",
       "  </tbody>\n",
       "</table>\n",
       "</div>"
      ],
      "text/plain": [
       "        Category  Micro Enterprise  Small Enterprise  Medium Enterprise\n",
       "0  Manufacturing                 6                 5                  4\n",
       "1       Services                 1                 2                  3"
      ]
     },
     "execution_count": 2,
     "metadata": {},
     "output_type": "execute_result"
    }
   ],
   "source": [
    "data=pd.DataFrame()\n",
    "data['Category']=['Manufacturing','Services']\n",
    "data['Micro Enterprise']=[6,1]\n",
    "data['Small Enterprise']=[5,2]\n",
    "data['Medium Enterprise']=[4,3]\n",
    "data"
   ]
  },
  {
   "cell_type": "markdown",
   "metadata": {},
   "source": [
    "## <span style='background :lemonchiffon'> <span style='font-family:\"Times New Roman\"'>In terms of Need</span>"
   ]
  },
  {
   "cell_type": "code",
   "execution_count": 3,
   "metadata": {},
   "outputs": [
    {
     "data": {
      "text/html": [
       "<div>\n",
       "<style scoped>\n",
       "    .dataframe tbody tr th:only-of-type {\n",
       "        vertical-align: middle;\n",
       "    }\n",
       "\n",
       "    .dataframe tbody tr th {\n",
       "        vertical-align: top;\n",
       "    }\n",
       "\n",
       "    .dataframe thead th {\n",
       "        text-align: right;\n",
       "    }\n",
       "</style>\n",
       "<table border=\"1\" class=\"dataframe\">\n",
       "  <thead>\n",
       "    <tr style=\"text-align: right;\">\n",
       "      <th></th>\n",
       "      <th>Category</th>\n",
       "      <th>Micro Enterprise</th>\n",
       "      <th>Small Enterprise</th>\n",
       "      <th>Medium Enterprise</th>\n",
       "    </tr>\n",
       "  </thead>\n",
       "  <tbody>\n",
       "    <tr>\n",
       "      <th>0</th>\n",
       "      <td>Manufacturing</td>\n",
       "      <td>1</td>\n",
       "      <td>2</td>\n",
       "      <td>4</td>\n",
       "    </tr>\n",
       "    <tr>\n",
       "      <th>1</th>\n",
       "      <td>Services</td>\n",
       "      <td>3</td>\n",
       "      <td>5</td>\n",
       "      <td>6</td>\n",
       "    </tr>\n",
       "  </tbody>\n",
       "</table>\n",
       "</div>"
      ],
      "text/plain": [
       "        Category  Micro Enterprise  Small Enterprise  Medium Enterprise\n",
       "0  Manufacturing                 1                 2                  4\n",
       "1       Services                 3                 5                  6"
      ]
     },
     "execution_count": 3,
     "metadata": {},
     "output_type": "execute_result"
    }
   ],
   "source": [
    "data1=pd.DataFrame()\n",
    "data1['Category']=['Manufacturing','Services']\n",
    "data1['Micro Enterprise']=[1,3]\n",
    "data1['Small Enterprise']=[2,5]\n",
    "data1['Medium Enterprise']=[4,6]\n",
    "data1"
   ]
  },
  {
   "cell_type": "markdown",
   "metadata": {},
   "source": [
    "![](Necessary_Files\\rankmatrix.png)"
   ]
  },
  {
   "cell_type": "markdown",
   "metadata": {},
   "source": [
    "## <span style='background :wheat'><span style='font-family:\"blue\"'>Terms of Loan</span>\n",
    "### <span style='font-family:\"blue\"'>https://www.rbi.org.in/Scripts/Pr_DataRelease.aspx?SectionID=369&DateFilter=Year</span>"
   ]
  },
  {
   "cell_type": "code",
   "execution_count": 4,
   "metadata": {},
   "outputs": [
    {
     "data": {
      "text/html": [
       "<div>\n",
       "<style scoped>\n",
       "    .dataframe tbody tr th:only-of-type {\n",
       "        vertical-align: middle;\n",
       "    }\n",
       "\n",
       "    .dataframe tbody tr th {\n",
       "        vertical-align: top;\n",
       "    }\n",
       "\n",
       "    .dataframe thead th {\n",
       "        text-align: right;\n",
       "    }\n",
       "</style>\n",
       "<table border=\"1\" class=\"dataframe\">\n",
       "  <thead>\n",
       "    <tr style=\"text-align: right;\">\n",
       "      <th></th>\n",
       "      <th>Conditions</th>\n",
       "      <th>Public Sector Banks</th>\n",
       "      <th>Private Sector Banks</th>\n",
       "      <th>Scheduled Commercial Banks</th>\n",
       "    </tr>\n",
       "  </thead>\n",
       "  <tbody>\n",
       "    <tr>\n",
       "      <th>0</th>\n",
       "      <td>Base Lending Rate</td>\n",
       "      <td>9.35%</td>\n",
       "      <td>10.81%</td>\n",
       "      <td>9.88%</td>\n",
       "    </tr>\n",
       "    <tr>\n",
       "      <th>1</th>\n",
       "      <td>Tenure</td>\n",
       "      <td>4 years</td>\n",
       "      <td>4 years</td>\n",
       "      <td>4 years</td>\n",
       "    </tr>\n",
       "    <tr>\n",
       "      <th>2</th>\n",
       "      <td>Repayment Frequency</td>\n",
       "      <td>3 months</td>\n",
       "      <td>3 months</td>\n",
       "      <td>3 months</td>\n",
       "    </tr>\n",
       "  </tbody>\n",
       "</table>\n",
       "</div>"
      ],
      "text/plain": [
       "            Conditions Public Sector Banks Private Sector Banks  \\\n",
       "0    Base Lending Rate               9.35%               10.81%   \n",
       "1               Tenure             4 years              4 years   \n",
       "2  Repayment Frequency            3 months             3 months   \n",
       "\n",
       "  Scheduled Commercial Banks  \n",
       "0                      9.88%  \n",
       "1                    4 years  \n",
       "2                   3 months  "
      ]
     },
     "execution_count": 4,
     "metadata": {},
     "output_type": "execute_result"
    }
   ],
   "source": [
    "data2=pd.DataFrame()\n",
    "data2['Conditions']=['Base Lending Rate','Tenure','Repayment Frequency']\n",
    "data2['Public Sector Banks']=['9.35%','4 years','3 months']\n",
    "data2['Private Sector Banks']=['10.81%','4 years','3 months']\n",
    "data2['Scheduled Commercial Banks']=['9.88%','4 years','3 months']\n",
    "data2"
   ]
  },
  {
   "cell_type": "markdown",
   "metadata": {},
   "source": [
    "## <span style='background :wheat'><span style='font-family:\"blue\"'>Simple Interest per Quarter</span>"
   ]
  },
  {
   "cell_type": "code",
   "execution_count": 5,
   "metadata": {},
   "outputs": [
    {
     "name": "stdout",
     "output_type": "stream",
     "text": [
      "Enter the loan amount: 10000\n",
      "\n"
     ]
    },
    {
     "data": {
      "text/html": [
       "<div>\n",
       "<style scoped>\n",
       "    .dataframe tbody tr th:only-of-type {\n",
       "        vertical-align: middle;\n",
       "    }\n",
       "\n",
       "    .dataframe tbody tr th {\n",
       "        vertical-align: top;\n",
       "    }\n",
       "\n",
       "    .dataframe thead th {\n",
       "        text-align: right;\n",
       "    }\n",
       "</style>\n",
       "<table border=\"1\" class=\"dataframe\">\n",
       "  <thead>\n",
       "    <tr style=\"text-align: right;\">\n",
       "      <th></th>\n",
       "      <th></th>\n",
       "      <th>Public Sector Banks</th>\n",
       "      <th>Private Sector Banks</th>\n",
       "      <th>Scheduled Commercial Banks</th>\n",
       "    </tr>\n",
       "  </thead>\n",
       "  <tbody>\n",
       "    <tr>\n",
       "      <th>0</th>\n",
       "      <td>Simple Interest per Quarter</td>\n",
       "      <td>935.0 ₹</td>\n",
       "      <td>1081.0 ₹</td>\n",
       "      <td>988.00 ₹</td>\n",
       "    </tr>\n",
       "  </tbody>\n",
       "</table>\n",
       "</div>"
      ],
      "text/plain": [
       "                               Public Sector Banks Private Sector Banks  \\\n",
       "0  Simple Interest per Quarter             935.0 ₹             1081.0 ₹   \n",
       "\n",
       "  Scheduled Commercial Banks  \n",
       "0                   988.00 ₹  "
      ]
     },
     "execution_count": 5,
     "metadata": {},
     "output_type": "execute_result"
    }
   ],
   "source": [
    "p=int(input('Enter the loan amount: '))\n",
    "print()\n",
    "x1=(p*9.35*4)/100/4\n",
    "x2=(p*10.81*4)/100/4\n",
    "x3=(p*9.88*4)/100/4\n",
    "x3=format(x3, '.2f')\n",
    "data3=pd.DataFrame()\n",
    "data3['']=['Simple Interest per Quarter']\n",
    "data3['Public Sector Banks']=[str(x1)+' ₹']\n",
    "data3['Private Sector Banks']=[str(x2)+' ₹']\n",
    "data3['Scheduled Commercial Banks']=[str(x3)+' ₹']\n",
    "data3"
   ]
  },
  {
   "cell_type": "markdown",
   "metadata": {},
   "source": [
    "## <span style='background :paleturquoise'><span style='font-family:\"blue\"'>Credit Scoring Model</span>"
   ]
  },
  {
   "cell_type": "markdown",
   "metadata": {},
   "source": [
    "### <span style='font-family:\"blue\"'>CURRENT RATIO ↔ The current ratio is a liquidity ratio that measures a company's ability    to pay short-term obligations or those due within one year.</span>\n",
    "### <span style='font-family:\"blue\"'>DEBT RATIO ↔ The debt ratio is a financial ratio that measures the extent of a company's leverage.</span>\n",
    "### <span style='font-family:\"blue\"'>CASH RATIO ↔ The cash ratio is a measurement of a company's liquidity, specifically the ratio of a company's total cash and cash equivalents to its current liabilities.</span>"
   ]
  },
  {
   "cell_type": "code",
   "execution_count": 6,
   "metadata": {},
   "outputs": [
    {
     "name": "stdout",
     "output_type": "stream",
     "text": [
      "Enter the type of Enterprise: Micro\n",
      "Enter the type of sector: Service\n",
      "Enter the current ratio of your enterprise: 1.11\n",
      "Enter the debt ratio of your enterprise: 0.9\n",
      "Enter the cash ratio of your enterprise: 0.9\n",
      "Your Credit Score Ratio:  1.0050000000000001\n"
     ]
    }
   ],
   "source": [
    "type_enterprise=input('Enter the type of Enterprise: ')\n",
    "type_sector=input('Enter the type of sector: ')\n",
    "current_ratio=float(input('Enter the current ratio of your enterprise: '))\n",
    "debt_ratio=float(input('Enter the debt ratio of your enterprise: '))\n",
    "cash_ratio=float(input('Enter the cash ratio of your enterprise: '))\n",
    "credit_score=0.50*current_ratio + 0.3*debt_ratio + 0.2*cash_ratio\n",
    "print(\"Your Credit Score Ratio: \",credit_score)"
   ]
  },
  {
   "cell_type": "markdown",
   "metadata": {},
   "source": [
    "### <span style='background :palegreen'><span style='font-family:\"blue\"'>Extra Risk Premium Conditions based on Credit Score Ratio</span>"
   ]
  },
  {
   "cell_type": "code",
   "execution_count": 7,
   "metadata": {},
   "outputs": [
    {
     "data": {
      "text/html": [
       "<div>\n",
       "<style scoped>\n",
       "    .dataframe tbody tr th:only-of-type {\n",
       "        vertical-align: middle;\n",
       "    }\n",
       "\n",
       "    .dataframe tbody tr th {\n",
       "        vertical-align: top;\n",
       "    }\n",
       "\n",
       "    .dataframe thead th {\n",
       "        text-align: right;\n",
       "    }\n",
       "</style>\n",
       "<table border=\"1\" class=\"dataframe\">\n",
       "  <thead>\n",
       "    <tr style=\"text-align: right;\">\n",
       "      <th></th>\n",
       "      <th>Conditions</th>\n",
       "      <th>Public Sector Banks</th>\n",
       "      <th>Private Sector Banks</th>\n",
       "      <th>Scheduled Commercial Banks</th>\n",
       "    </tr>\n",
       "  </thead>\n",
       "  <tbody>\n",
       "    <tr>\n",
       "      <th>0</th>\n",
       "      <td>credit score ratio &gt; 1</td>\n",
       "      <td>9.35%</td>\n",
       "      <td>10.81%</td>\n",
       "      <td>9.88%</td>\n",
       "    </tr>\n",
       "    <tr>\n",
       "      <th>1</th>\n",
       "      <td>1 &gt; credit score ratio &gt; 0.7</td>\n",
       "      <td>10.35%</td>\n",
       "      <td>11.81%</td>\n",
       "      <td>10.88%</td>\n",
       "    </tr>\n",
       "    <tr>\n",
       "      <th>2</th>\n",
       "      <td>0.7 &gt; credit score ratio</td>\n",
       "      <td>11.35%</td>\n",
       "      <td>12.81%</td>\n",
       "      <td>11.88%</td>\n",
       "    </tr>\n",
       "  </tbody>\n",
       "</table>\n",
       "</div>"
      ],
      "text/plain": [
       "                     Conditions Public Sector Banks Private Sector Banks  \\\n",
       "0        credit score ratio > 1               9.35%               10.81%   \n",
       "1  1 > credit score ratio > 0.7              10.35%               11.81%   \n",
       "2      0.7 > credit score ratio              11.35%               12.81%   \n",
       "\n",
       "  Scheduled Commercial Banks  \n",
       "0                      9.88%  \n",
       "1                     10.88%  \n",
       "2                     11.88%  "
      ]
     },
     "execution_count": 7,
     "metadata": {},
     "output_type": "execute_result"
    }
   ],
   "source": [
    "data4=pd.DataFrame()\n",
    "data4['Conditions']=['credit score ratio > 1','1 > credit score ratio > 0.7','0.7 > credit score ratio']\n",
    "data4['Public Sector Banks']=['9.35%','10.35%','11.35%']\n",
    "data4['Private Sector Banks']=['10.81%','11.81%','12.81%']\n",
    "data4['Scheduled Commercial Banks']=['9.88%','10.88%','11.88%']\n",
    "data4"
   ]
  },
  {
   "cell_type": "code",
   "execution_count": null,
   "metadata": {},
   "outputs": [],
   "source": []
  }
 ],
 "metadata": {
  "kernelspec": {
   "display_name": "Python 3",
   "language": "python",
   "name": "python3"
  },
  "language_info": {
   "codemirror_mode": {
    "name": "ipython",
    "version": 3
   },
   "file_extension": ".py",
   "mimetype": "text/x-python",
   "name": "python",
   "nbconvert_exporter": "python",
   "pygments_lexer": "ipython3",
   "version": "3.7.3"
  }
 },
 "nbformat": 4,
 "nbformat_minor": 2
}
